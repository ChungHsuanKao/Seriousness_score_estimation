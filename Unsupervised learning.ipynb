{
 "cells": [
  {
   "cell_type": "code",
   "execution_count": 15,
   "metadata": {},
   "outputs": [],
   "source": [
    "import pandas as pd\n",
    "import numpy as np\n",
    "import matplotlib.pyplot as plt\n",
    "import seaborn as sns\n",
    "%matplotlib inline\n",
    "from collections import Counter\n",
    "from sklearn.decomposition import PCA\n",
    "from sklearn.preprocessing import StandardScaler"
   ]
  },
  {
   "cell_type": "code",
   "execution_count": 2,
   "metadata": {},
   "outputs": [],
   "source": [
    "def confusion_matrix_plot(y_true, y_pred):\n",
    "    conf_mat = confusion_matrix(y_true, y_pred)\n",
    "    print('Confusion matrix:\\n', conf_mat)\n",
    "\n",
    "    labels = ['Class 0', 'Class 1']\n",
    "    fig = plt.figure()\n",
    "    ax = fig.add_subplot(111)\n",
    "    cax = ax.matshow(conf_mat, cmap=plt.cm.Blues)\n",
    "    fig.colorbar(cax)\n",
    "    ax.set_xticklabels([''] + labels)\n",
    "    ax.set_yticklabels([''] + labels)\n",
    "    plt.xlabel('Predicted')\n",
    "    plt.ylabel('Expected')\n",
    "    plt.show()"
   ]
  },
  {
   "cell_type": "code",
   "execution_count": 3,
   "metadata": {},
   "outputs": [],
   "source": [
    "def plot_2d_space(X, y, label='Classes'):   \n",
    "    colors = ['#1F77B4', '#FF7F0E']\n",
    "    markers = ['o', 's']\n",
    "    for l, c, m in zip(np.unique(y), colors, markers):\n",
    "        plt.scatter(\n",
    "            X[y==l, 0],\n",
    "            X[y==l, 1],\n",
    "            c=c, label=l, marker=m\n",
    "        )\n",
    "    plt.title(label)\n",
    "    plt.legend(loc='upper right')"
   ]
  },
  {
   "cell_type": "code",
   "execution_count": 4,
   "metadata": {},
   "outputs": [],
   "source": [
    "def box_dist_plot(dataframe, column):\n",
    "    plt.subplot(1,2,1)\n",
    "    dataframe.boxplot(column)\n",
    "    \n",
    "    plt.subplot(1,2,2)\n",
    "    sns.distplot(dataframe[column])\n",
    "    \n",
    "    plt.tight_layout()"
   ]
  },
  {
   "cell_type": "code",
   "execution_count": 5,
   "metadata": {},
   "outputs": [],
   "source": [
    "def coef_importance(X_train, model):\n",
    "    temp = pd.DataFrame(np.std(X_train, 0), columns=['std'])\n",
    "    temp['coef'] = model.coef_[0].tolist()\n",
    "    temp['weight'] = temp['std']*temp['coef']\n",
    "    temp_sort = temp.sort_values('weight', ascending=False)['weight']\n",
    "    plt.bar(temp_sort.index, temp_sort)\n",
    "    plt.xticks(rotation=90)"
   ]
  },
  {
   "cell_type": "markdown",
   "metadata": {},
   "source": [
    "\n",
    "# dataset"
   ]
  },
  {
   "cell_type": "code",
   "execution_count": 6,
   "metadata": {},
   "outputs": [],
   "source": [
    "df = pd.read_csv('merge_test1.csv')"
   ]
  },
  {
   "cell_type": "code",
   "execution_count": 7,
   "metadata": {},
   "outputs": [],
   "source": [
    "# drop extra col\n",
    "df = df.drop('Unnamed: 0', axis=1)"
   ]
  },
  {
   "cell_type": "code",
   "execution_count": 8,
   "metadata": {},
   "outputs": [
    {
     "data": {
      "text/html": [
       "<div>\n",
       "<style scoped>\n",
       "    .dataframe tbody tr th:only-of-type {\n",
       "        vertical-align: middle;\n",
       "    }\n",
       "\n",
       "    .dataframe tbody tr th {\n",
       "        vertical-align: top;\n",
       "    }\n",
       "\n",
       "    .dataframe thead th {\n",
       "        text-align: right;\n",
       "    }\n",
       "</style>\n",
       "<table border=\"1\" class=\"dataframe\">\n",
       "  <thead>\n",
       "    <tr style=\"text-align: right;\">\n",
       "      <th></th>\n",
       "      <th>age</th>\n",
       "      <th>label</th>\n",
       "      <th>experience_2 to 5 years</th>\n",
       "      <th>experience_Less than 1 yr</th>\n",
       "      <th>experience_More than 5 years</th>\n",
       "      <th>experience_No experience</th>\n",
       "      <th>experience_not provided</th>\n",
       "      <th>education_Class 12th pass</th>\n",
       "      <th>education_Class 9th or below</th>\n",
       "      <th>education_Graduate</th>\n",
       "      <th>education_ITI / Diploma</th>\n",
       "      <th>education_No education</th>\n",
       "      <th>education_not provided</th>\n",
       "      <th>bikeSurvey_Yes</th>\n",
       "      <th>bikeSurvey_not provided</th>\n",
       "      <th>idDetected_True</th>\n",
       "      <th>drivingLicenseSurvey_Yes</th>\n",
       "      <th>drivingLicenseSurvey_not provided</th>\n",
       "      <th>married_Yes</th>\n",
       "      <th>married_not provided</th>\n",
       "      <th>city_Bangalore</th>\n",
       "      <th>city_Delhi/NCR</th>\n",
       "      <th>city_others</th>\n",
       "      <th>city_your city</th>\n",
       "      <th>title_South Delhi</th>\n",
       "      <th>title_Vastrapur</th>\n",
       "      <th>title_West Delhi (Janakpuri)</th>\n",
       "      <th>title_others</th>\n",
       "      <th>source_Referrals</th>\n",
       "      <th>source_WhatsApp OptIn Form</th>\n",
       "      <th>source_not provided</th>\n",
       "      <th>source_others</th>\n",
       "      <th>time_whole_conversation(hour)</th>\n",
       "      <th>total_message_count</th>\n",
       "      <th>incoming_count</th>\n",
       "      <th>outgoing_count</th>\n",
       "      <th>responding</th>\n",
       "      <th>responding_median</th>\n",
       "    </tr>\n",
       "  </thead>\n",
       "  <tbody>\n",
       "    <tr>\n",
       "      <th>0</th>\n",
       "      <td>25.0</td>\n",
       "      <td>0</td>\n",
       "      <td>0</td>\n",
       "      <td>0</td>\n",
       "      <td>0</td>\n",
       "      <td>0</td>\n",
       "      <td>0</td>\n",
       "      <td>1</td>\n",
       "      <td>0</td>\n",
       "      <td>0</td>\n",
       "      <td>0</td>\n",
       "      <td>0</td>\n",
       "      <td>0</td>\n",
       "      <td>1</td>\n",
       "      <td>0</td>\n",
       "      <td>1</td>\n",
       "      <td>1</td>\n",
       "      <td>0</td>\n",
       "      <td>0</td>\n",
       "      <td>1</td>\n",
       "      <td>0</td>\n",
       "      <td>1</td>\n",
       "      <td>0</td>\n",
       "      <td>0</td>\n",
       "      <td>1</td>\n",
       "      <td>0</td>\n",
       "      <td>0</td>\n",
       "      <td>0</td>\n",
       "      <td>0</td>\n",
       "      <td>0</td>\n",
       "      <td>0</td>\n",
       "      <td>0</td>\n",
       "      <td>4238</td>\n",
       "      <td>149</td>\n",
       "      <td>57</td>\n",
       "      <td>92</td>\n",
       "      <td>4.504703e+05</td>\n",
       "      <td>34.3415</td>\n",
       "    </tr>\n",
       "    <tr>\n",
       "      <th>1</th>\n",
       "      <td>20.0</td>\n",
       "      <td>0</td>\n",
       "      <td>0</td>\n",
       "      <td>0</td>\n",
       "      <td>0</td>\n",
       "      <td>1</td>\n",
       "      <td>0</td>\n",
       "      <td>1</td>\n",
       "      <td>0</td>\n",
       "      <td>0</td>\n",
       "      <td>0</td>\n",
       "      <td>0</td>\n",
       "      <td>0</td>\n",
       "      <td>1</td>\n",
       "      <td>0</td>\n",
       "      <td>1</td>\n",
       "      <td>1</td>\n",
       "      <td>0</td>\n",
       "      <td>0</td>\n",
       "      <td>0</td>\n",
       "      <td>0</td>\n",
       "      <td>1</td>\n",
       "      <td>0</td>\n",
       "      <td>0</td>\n",
       "      <td>1</td>\n",
       "      <td>0</td>\n",
       "      <td>0</td>\n",
       "      <td>0</td>\n",
       "      <td>0</td>\n",
       "      <td>1</td>\n",
       "      <td>0</td>\n",
       "      <td>0</td>\n",
       "      <td>2746</td>\n",
       "      <td>156</td>\n",
       "      <td>58</td>\n",
       "      <td>98</td>\n",
       "      <td>3.035038e+05</td>\n",
       "      <td>25.9330</td>\n",
       "    </tr>\n",
       "    <tr>\n",
       "      <th>2</th>\n",
       "      <td>24.0</td>\n",
       "      <td>0</td>\n",
       "      <td>1</td>\n",
       "      <td>0</td>\n",
       "      <td>0</td>\n",
       "      <td>0</td>\n",
       "      <td>0</td>\n",
       "      <td>1</td>\n",
       "      <td>0</td>\n",
       "      <td>0</td>\n",
       "      <td>0</td>\n",
       "      <td>0</td>\n",
       "      <td>0</td>\n",
       "      <td>1</td>\n",
       "      <td>0</td>\n",
       "      <td>1</td>\n",
       "      <td>1</td>\n",
       "      <td>0</td>\n",
       "      <td>0</td>\n",
       "      <td>0</td>\n",
       "      <td>0</td>\n",
       "      <td>1</td>\n",
       "      <td>0</td>\n",
       "      <td>0</td>\n",
       "      <td>0</td>\n",
       "      <td>0</td>\n",
       "      <td>0</td>\n",
       "      <td>0</td>\n",
       "      <td>0</td>\n",
       "      <td>1</td>\n",
       "      <td>0</td>\n",
       "      <td>0</td>\n",
       "      <td>3722</td>\n",
       "      <td>92</td>\n",
       "      <td>33</td>\n",
       "      <td>59</td>\n",
       "      <td>3.426029e+05</td>\n",
       "      <td>16.8930</td>\n",
       "    </tr>\n",
       "    <tr>\n",
       "      <th>3</th>\n",
       "      <td>22.0</td>\n",
       "      <td>0</td>\n",
       "      <td>0</td>\n",
       "      <td>1</td>\n",
       "      <td>0</td>\n",
       "      <td>0</td>\n",
       "      <td>0</td>\n",
       "      <td>0</td>\n",
       "      <td>0</td>\n",
       "      <td>0</td>\n",
       "      <td>1</td>\n",
       "      <td>0</td>\n",
       "      <td>0</td>\n",
       "      <td>1</td>\n",
       "      <td>0</td>\n",
       "      <td>1</td>\n",
       "      <td>1</td>\n",
       "      <td>0</td>\n",
       "      <td>0</td>\n",
       "      <td>0</td>\n",
       "      <td>0</td>\n",
       "      <td>1</td>\n",
       "      <td>0</td>\n",
       "      <td>0</td>\n",
       "      <td>0</td>\n",
       "      <td>0</td>\n",
       "      <td>0</td>\n",
       "      <td>1</td>\n",
       "      <td>0</td>\n",
       "      <td>0</td>\n",
       "      <td>0</td>\n",
       "      <td>0</td>\n",
       "      <td>3617</td>\n",
       "      <td>97</td>\n",
       "      <td>35</td>\n",
       "      <td>62</td>\n",
       "      <td>9.442864e+05</td>\n",
       "      <td>20.0390</td>\n",
       "    </tr>\n",
       "    <tr>\n",
       "      <th>4</th>\n",
       "      <td>19.0</td>\n",
       "      <td>0</td>\n",
       "      <td>0</td>\n",
       "      <td>0</td>\n",
       "      <td>0</td>\n",
       "      <td>0</td>\n",
       "      <td>0</td>\n",
       "      <td>0</td>\n",
       "      <td>0</td>\n",
       "      <td>0</td>\n",
       "      <td>0</td>\n",
       "      <td>0</td>\n",
       "      <td>0</td>\n",
       "      <td>1</td>\n",
       "      <td>0</td>\n",
       "      <td>1</td>\n",
       "      <td>1</td>\n",
       "      <td>0</td>\n",
       "      <td>0</td>\n",
       "      <td>0</td>\n",
       "      <td>0</td>\n",
       "      <td>1</td>\n",
       "      <td>0</td>\n",
       "      <td>0</td>\n",
       "      <td>1</td>\n",
       "      <td>0</td>\n",
       "      <td>0</td>\n",
       "      <td>0</td>\n",
       "      <td>1</td>\n",
       "      <td>0</td>\n",
       "      <td>0</td>\n",
       "      <td>0</td>\n",
       "      <td>2689</td>\n",
       "      <td>83</td>\n",
       "      <td>30</td>\n",
       "      <td>53</td>\n",
       "      <td>1.033980e+06</td>\n",
       "      <td>11.8200</td>\n",
       "    </tr>\n",
       "  </tbody>\n",
       "</table>\n",
       "</div>"
      ],
      "text/plain": [
       "    age  label  experience_2 to 5 years  experience_Less than 1 yr  \\\n",
       "0  25.0      0                        0                          0   \n",
       "1  20.0      0                        0                          0   \n",
       "2  24.0      0                        1                          0   \n",
       "3  22.0      0                        0                          1   \n",
       "4  19.0      0                        0                          0   \n",
       "\n",
       "   experience_More than 5 years  experience_No experience  \\\n",
       "0                             0                         0   \n",
       "1                             0                         1   \n",
       "2                             0                         0   \n",
       "3                             0                         0   \n",
       "4                             0                         0   \n",
       "\n",
       "   experience_not provided  education_Class 12th pass  \\\n",
       "0                        0                          1   \n",
       "1                        0                          1   \n",
       "2                        0                          1   \n",
       "3                        0                          0   \n",
       "4                        0                          0   \n",
       "\n",
       "   education_Class 9th or below  education_Graduate  education_ITI / Diploma  \\\n",
       "0                             0                   0                        0   \n",
       "1                             0                   0                        0   \n",
       "2                             0                   0                        0   \n",
       "3                             0                   0                        1   \n",
       "4                             0                   0                        0   \n",
       "\n",
       "   education_No education  education_not provided  bikeSurvey_Yes  \\\n",
       "0                       0                       0               1   \n",
       "1                       0                       0               1   \n",
       "2                       0                       0               1   \n",
       "3                       0                       0               1   \n",
       "4                       0                       0               1   \n",
       "\n",
       "   bikeSurvey_not provided  idDetected_True  drivingLicenseSurvey_Yes  \\\n",
       "0                        0                1                         1   \n",
       "1                        0                1                         1   \n",
       "2                        0                1                         1   \n",
       "3                        0                1                         1   \n",
       "4                        0                1                         1   \n",
       "\n",
       "   drivingLicenseSurvey_not provided  married_Yes  married_not provided  \\\n",
       "0                                  0            0                     1   \n",
       "1                                  0            0                     0   \n",
       "2                                  0            0                     0   \n",
       "3                                  0            0                     0   \n",
       "4                                  0            0                     0   \n",
       "\n",
       "   city_Bangalore  city_Delhi/NCR  city_others  city_your city  \\\n",
       "0               0               1            0               0   \n",
       "1               0               1            0               0   \n",
       "2               0               1            0               0   \n",
       "3               0               1            0               0   \n",
       "4               0               1            0               0   \n",
       "\n",
       "   title_South Delhi  title_Vastrapur  title_West Delhi (Janakpuri)  \\\n",
       "0                  1                0                             0   \n",
       "1                  1                0                             0   \n",
       "2                  0                0                             0   \n",
       "3                  0                0                             0   \n",
       "4                  1                0                             0   \n",
       "\n",
       "   title_others  source_Referrals  source_WhatsApp OptIn Form  \\\n",
       "0             0                 0                           0   \n",
       "1             0                 0                           1   \n",
       "2             0                 0                           1   \n",
       "3             1                 0                           0   \n",
       "4             0                 1                           0   \n",
       "\n",
       "   source_not provided  source_others  time_whole_conversation(hour)  \\\n",
       "0                    0              0                           4238   \n",
       "1                    0              0                           2746   \n",
       "2                    0              0                           3722   \n",
       "3                    0              0                           3617   \n",
       "4                    0              0                           2689   \n",
       "\n",
       "   total_message_count  incoming_count  outgoing_count    responding  \\\n",
       "0                  149              57              92  4.504703e+05   \n",
       "1                  156              58              98  3.035038e+05   \n",
       "2                   92              33              59  3.426029e+05   \n",
       "3                   97              35              62  9.442864e+05   \n",
       "4                   83              30              53  1.033980e+06   \n",
       "\n",
       "   responding_median  \n",
       "0            34.3415  \n",
       "1            25.9330  \n",
       "2            16.8930  \n",
       "3            20.0390  \n",
       "4            11.8200  "
      ]
     },
     "execution_count": 8,
     "metadata": {},
     "output_type": "execute_result"
    }
   ],
   "source": [
    "pd.set_option('display.max_columns', 40)\n",
    "df.head()"
   ]
  },
  {
   "cell_type": "code",
   "execution_count": 9,
   "metadata": {},
   "outputs": [
    {
     "data": {
      "text/html": [
       "<div>\n",
       "<style scoped>\n",
       "    .dataframe tbody tr th:only-of-type {\n",
       "        vertical-align: middle;\n",
       "    }\n",
       "\n",
       "    .dataframe tbody tr th {\n",
       "        vertical-align: top;\n",
       "    }\n",
       "\n",
       "    .dataframe thead th {\n",
       "        text-align: right;\n",
       "    }\n",
       "</style>\n",
       "<table border=\"1\" class=\"dataframe\">\n",
       "  <thead>\n",
       "    <tr style=\"text-align: right;\">\n",
       "      <th></th>\n",
       "      <th>age</th>\n",
       "      <th>label</th>\n",
       "      <th>experience_2 to 5 years</th>\n",
       "      <th>experience_Less than 1 yr</th>\n",
       "      <th>experience_More than 5 years</th>\n",
       "      <th>experience_No experience</th>\n",
       "      <th>experience_not provided</th>\n",
       "      <th>education_Class 12th pass</th>\n",
       "      <th>education_Class 9th or below</th>\n",
       "      <th>education_Graduate</th>\n",
       "      <th>education_ITI / Diploma</th>\n",
       "      <th>education_No education</th>\n",
       "      <th>education_not provided</th>\n",
       "      <th>bikeSurvey_Yes</th>\n",
       "      <th>bikeSurvey_not provided</th>\n",
       "      <th>idDetected_True</th>\n",
       "      <th>drivingLicenseSurvey_Yes</th>\n",
       "      <th>drivingLicenseSurvey_not provided</th>\n",
       "      <th>married_Yes</th>\n",
       "      <th>married_not provided</th>\n",
       "      <th>city_Bangalore</th>\n",
       "      <th>city_Delhi/NCR</th>\n",
       "      <th>city_others</th>\n",
       "      <th>city_your city</th>\n",
       "      <th>title_South Delhi</th>\n",
       "      <th>title_Vastrapur</th>\n",
       "      <th>title_West Delhi (Janakpuri)</th>\n",
       "      <th>title_others</th>\n",
       "      <th>source_Referrals</th>\n",
       "      <th>source_WhatsApp OptIn Form</th>\n",
       "      <th>source_not provided</th>\n",
       "      <th>source_others</th>\n",
       "      <th>time_whole_conversation(hour)</th>\n",
       "      <th>total_message_count</th>\n",
       "      <th>incoming_count</th>\n",
       "      <th>outgoing_count</th>\n",
       "      <th>responding</th>\n",
       "      <th>responding_median</th>\n",
       "    </tr>\n",
       "  </thead>\n",
       "  <tbody>\n",
       "    <tr>\n",
       "      <th>count</th>\n",
       "      <td>10534.000000</td>\n",
       "      <td>10534.000000</td>\n",
       "      <td>10534.000000</td>\n",
       "      <td>10534.000000</td>\n",
       "      <td>10534.000000</td>\n",
       "      <td>10534.000000</td>\n",
       "      <td>10534.000000</td>\n",
       "      <td>10534.000000</td>\n",
       "      <td>10534.000000</td>\n",
       "      <td>10534.000000</td>\n",
       "      <td>10534.000000</td>\n",
       "      <td>10534.000000</td>\n",
       "      <td>10534.000000</td>\n",
       "      <td>10534.000000</td>\n",
       "      <td>10534.000000</td>\n",
       "      <td>10534.000000</td>\n",
       "      <td>10534.000000</td>\n",
       "      <td>10534.000000</td>\n",
       "      <td>10534.000000</td>\n",
       "      <td>10534.000000</td>\n",
       "      <td>10534.000000</td>\n",
       "      <td>10534.000000</td>\n",
       "      <td>10534.000000</td>\n",
       "      <td>10534.000000</td>\n",
       "      <td>10534.000000</td>\n",
       "      <td>10534.000000</td>\n",
       "      <td>10534.000000</td>\n",
       "      <td>10534.00000</td>\n",
       "      <td>10534.000000</td>\n",
       "      <td>10534.000000</td>\n",
       "      <td>10534.000000</td>\n",
       "      <td>10534.000000</td>\n",
       "      <td>10534.000000</td>\n",
       "      <td>10534.000000</td>\n",
       "      <td>10534.000000</td>\n",
       "      <td>10534.000000</td>\n",
       "      <td>1.053400e+04</td>\n",
       "      <td>10534.000000</td>\n",
       "    </tr>\n",
       "    <tr>\n",
       "      <th>mean</th>\n",
       "      <td>29.211885</td>\n",
       "      <td>0.003892</td>\n",
       "      <td>0.030473</td>\n",
       "      <td>0.057148</td>\n",
       "      <td>0.043858</td>\n",
       "      <td>0.190906</td>\n",
       "      <td>0.640782</td>\n",
       "      <td>0.114012</td>\n",
       "      <td>0.006740</td>\n",
       "      <td>0.067875</td>\n",
       "      <td>0.033416</td>\n",
       "      <td>0.061135</td>\n",
       "      <td>0.637650</td>\n",
       "      <td>0.758117</td>\n",
       "      <td>0.074805</td>\n",
       "      <td>0.898994</td>\n",
       "      <td>0.660623</td>\n",
       "      <td>0.256123</td>\n",
       "      <td>0.067211</td>\n",
       "      <td>0.649421</td>\n",
       "      <td>0.078792</td>\n",
       "      <td>0.223467</td>\n",
       "      <td>0.385798</td>\n",
       "      <td>0.081071</td>\n",
       "      <td>0.052022</td>\n",
       "      <td>0.230871</td>\n",
       "      <td>0.051832</td>\n",
       "      <td>0.59626</td>\n",
       "      <td>0.662996</td>\n",
       "      <td>0.011961</td>\n",
       "      <td>0.000285</td>\n",
       "      <td>0.286121</td>\n",
       "      <td>352.277767</td>\n",
       "      <td>60.832637</td>\n",
       "      <td>22.136985</td>\n",
       "      <td>38.695652</td>\n",
       "      <td>3.725202e+04</td>\n",
       "      <td>25.148520</td>\n",
       "    </tr>\n",
       "    <tr>\n",
       "      <th>std</th>\n",
       "      <td>10.875285</td>\n",
       "      <td>0.062269</td>\n",
       "      <td>0.171892</td>\n",
       "      <td>0.232137</td>\n",
       "      <td>0.204789</td>\n",
       "      <td>0.393034</td>\n",
       "      <td>0.479794</td>\n",
       "      <td>0.317841</td>\n",
       "      <td>0.081825</td>\n",
       "      <td>0.251544</td>\n",
       "      <td>0.179728</td>\n",
       "      <td>0.239590</td>\n",
       "      <td>0.480702</td>\n",
       "      <td>0.428244</td>\n",
       "      <td>0.263090</td>\n",
       "      <td>0.301351</td>\n",
       "      <td>0.473520</td>\n",
       "      <td>0.436511</td>\n",
       "      <td>0.250399</td>\n",
       "      <td>0.477174</td>\n",
       "      <td>0.269427</td>\n",
       "      <td>0.416588</td>\n",
       "      <td>0.486806</td>\n",
       "      <td>0.272957</td>\n",
       "      <td>0.222082</td>\n",
       "      <td>0.421410</td>\n",
       "      <td>0.221699</td>\n",
       "      <td>0.49067</td>\n",
       "      <td>0.472709</td>\n",
       "      <td>0.108717</td>\n",
       "      <td>0.016874</td>\n",
       "      <td>0.451968</td>\n",
       "      <td>718.006987</td>\n",
       "      <td>83.476012</td>\n",
       "      <td>32.879492</td>\n",
       "      <td>51.144904</td>\n",
       "      <td>1.371072e+05</td>\n",
       "      <td>685.040020</td>\n",
       "    </tr>\n",
       "    <tr>\n",
       "      <th>min</th>\n",
       "      <td>1.000000</td>\n",
       "      <td>0.000000</td>\n",
       "      <td>0.000000</td>\n",
       "      <td>0.000000</td>\n",
       "      <td>0.000000</td>\n",
       "      <td>0.000000</td>\n",
       "      <td>0.000000</td>\n",
       "      <td>0.000000</td>\n",
       "      <td>0.000000</td>\n",
       "      <td>0.000000</td>\n",
       "      <td>0.000000</td>\n",
       "      <td>0.000000</td>\n",
       "      <td>0.000000</td>\n",
       "      <td>0.000000</td>\n",
       "      <td>0.000000</td>\n",
       "      <td>0.000000</td>\n",
       "      <td>0.000000</td>\n",
       "      <td>0.000000</td>\n",
       "      <td>0.000000</td>\n",
       "      <td>0.000000</td>\n",
       "      <td>0.000000</td>\n",
       "      <td>0.000000</td>\n",
       "      <td>0.000000</td>\n",
       "      <td>0.000000</td>\n",
       "      <td>0.000000</td>\n",
       "      <td>0.000000</td>\n",
       "      <td>0.000000</td>\n",
       "      <td>0.00000</td>\n",
       "      <td>0.000000</td>\n",
       "      <td>0.000000</td>\n",
       "      <td>0.000000</td>\n",
       "      <td>0.000000</td>\n",
       "      <td>0.000000</td>\n",
       "      <td>25.000000</td>\n",
       "      <td>8.000000</td>\n",
       "      <td>16.000000</td>\n",
       "      <td>1.321667e+00</td>\n",
       "      <td>0.253000</td>\n",
       "    </tr>\n",
       "    <tr>\n",
       "      <th>25%</th>\n",
       "      <td>23.000000</td>\n",
       "      <td>0.000000</td>\n",
       "      <td>0.000000</td>\n",
       "      <td>0.000000</td>\n",
       "      <td>0.000000</td>\n",
       "      <td>0.000000</td>\n",
       "      <td>0.000000</td>\n",
       "      <td>0.000000</td>\n",
       "      <td>0.000000</td>\n",
       "      <td>0.000000</td>\n",
       "      <td>0.000000</td>\n",
       "      <td>0.000000</td>\n",
       "      <td>0.000000</td>\n",
       "      <td>1.000000</td>\n",
       "      <td>0.000000</td>\n",
       "      <td>1.000000</td>\n",
       "      <td>0.000000</td>\n",
       "      <td>0.000000</td>\n",
       "      <td>0.000000</td>\n",
       "      <td>0.000000</td>\n",
       "      <td>0.000000</td>\n",
       "      <td>0.000000</td>\n",
       "      <td>0.000000</td>\n",
       "      <td>0.000000</td>\n",
       "      <td>0.000000</td>\n",
       "      <td>0.000000</td>\n",
       "      <td>0.000000</td>\n",
       "      <td>0.00000</td>\n",
       "      <td>0.000000</td>\n",
       "      <td>0.000000</td>\n",
       "      <td>0.000000</td>\n",
       "      <td>0.000000</td>\n",
       "      <td>49.000000</td>\n",
       "      <td>37.000000</td>\n",
       "      <td>13.000000</td>\n",
       "      <td>24.000000</td>\n",
       "      <td>1.189769e+01</td>\n",
       "      <td>5.474375</td>\n",
       "    </tr>\n",
       "    <tr>\n",
       "      <th>50%</th>\n",
       "      <td>26.000000</td>\n",
       "      <td>0.000000</td>\n",
       "      <td>0.000000</td>\n",
       "      <td>0.000000</td>\n",
       "      <td>0.000000</td>\n",
       "      <td>0.000000</td>\n",
       "      <td>1.000000</td>\n",
       "      <td>0.000000</td>\n",
       "      <td>0.000000</td>\n",
       "      <td>0.000000</td>\n",
       "      <td>0.000000</td>\n",
       "      <td>0.000000</td>\n",
       "      <td>1.000000</td>\n",
       "      <td>1.000000</td>\n",
       "      <td>0.000000</td>\n",
       "      <td>1.000000</td>\n",
       "      <td>1.000000</td>\n",
       "      <td>0.000000</td>\n",
       "      <td>0.000000</td>\n",
       "      <td>1.000000</td>\n",
       "      <td>0.000000</td>\n",
       "      <td>0.000000</td>\n",
       "      <td>0.000000</td>\n",
       "      <td>0.000000</td>\n",
       "      <td>0.000000</td>\n",
       "      <td>0.000000</td>\n",
       "      <td>0.000000</td>\n",
       "      <td>1.00000</td>\n",
       "      <td>1.000000</td>\n",
       "      <td>0.000000</td>\n",
       "      <td>0.000000</td>\n",
       "      <td>0.000000</td>\n",
       "      <td>184.000000</td>\n",
       "      <td>45.000000</td>\n",
       "      <td>16.000000</td>\n",
       "      <td>29.000000</td>\n",
       "      <td>4.232757e+01</td>\n",
       "      <td>10.955750</td>\n",
       "    </tr>\n",
       "    <tr>\n",
       "      <th>75%</th>\n",
       "      <td>33.000000</td>\n",
       "      <td>0.000000</td>\n",
       "      <td>0.000000</td>\n",
       "      <td>0.000000</td>\n",
       "      <td>0.000000</td>\n",
       "      <td>0.000000</td>\n",
       "      <td>1.000000</td>\n",
       "      <td>0.000000</td>\n",
       "      <td>0.000000</td>\n",
       "      <td>0.000000</td>\n",
       "      <td>0.000000</td>\n",
       "      <td>0.000000</td>\n",
       "      <td>1.000000</td>\n",
       "      <td>1.000000</td>\n",
       "      <td>0.000000</td>\n",
       "      <td>1.000000</td>\n",
       "      <td>1.000000</td>\n",
       "      <td>1.000000</td>\n",
       "      <td>0.000000</td>\n",
       "      <td>1.000000</td>\n",
       "      <td>0.000000</td>\n",
       "      <td>0.000000</td>\n",
       "      <td>1.000000</td>\n",
       "      <td>0.000000</td>\n",
       "      <td>0.000000</td>\n",
       "      <td>0.000000</td>\n",
       "      <td>0.000000</td>\n",
       "      <td>1.00000</td>\n",
       "      <td>1.000000</td>\n",
       "      <td>0.000000</td>\n",
       "      <td>0.000000</td>\n",
       "      <td>1.000000</td>\n",
       "      <td>242.000000</td>\n",
       "      <td>61.000000</td>\n",
       "      <td>22.000000</td>\n",
       "      <td>39.000000</td>\n",
       "      <td>1.786800e+04</td>\n",
       "      <td>23.165750</td>\n",
       "    </tr>\n",
       "    <tr>\n",
       "      <th>max</th>\n",
       "      <td>99.000000</td>\n",
       "      <td>1.000000</td>\n",
       "      <td>1.000000</td>\n",
       "      <td>1.000000</td>\n",
       "      <td>1.000000</td>\n",
       "      <td>1.000000</td>\n",
       "      <td>1.000000</td>\n",
       "      <td>1.000000</td>\n",
       "      <td>1.000000</td>\n",
       "      <td>1.000000</td>\n",
       "      <td>1.000000</td>\n",
       "      <td>1.000000</td>\n",
       "      <td>1.000000</td>\n",
       "      <td>1.000000</td>\n",
       "      <td>1.000000</td>\n",
       "      <td>1.000000</td>\n",
       "      <td>1.000000</td>\n",
       "      <td>1.000000</td>\n",
       "      <td>1.000000</td>\n",
       "      <td>1.000000</td>\n",
       "      <td>1.000000</td>\n",
       "      <td>1.000000</td>\n",
       "      <td>1.000000</td>\n",
       "      <td>1.000000</td>\n",
       "      <td>1.000000</td>\n",
       "      <td>1.000000</td>\n",
       "      <td>1.000000</td>\n",
       "      <td>1.00000</td>\n",
       "      <td>1.000000</td>\n",
       "      <td>1.000000</td>\n",
       "      <td>1.000000</td>\n",
       "      <td>1.000000</td>\n",
       "      <td>4944.000000</td>\n",
       "      <td>5319.000000</td>\n",
       "      <td>1872.000000</td>\n",
       "      <td>3447.000000</td>\n",
       "      <td>3.519348e+06</td>\n",
       "      <td>69527.473500</td>\n",
       "    </tr>\n",
       "  </tbody>\n",
       "</table>\n",
       "</div>"
      ],
      "text/plain": [
       "                age         label  experience_2 to 5 years  \\\n",
       "count  10534.000000  10534.000000             10534.000000   \n",
       "mean      29.211885      0.003892                 0.030473   \n",
       "std       10.875285      0.062269                 0.171892   \n",
       "min        1.000000      0.000000                 0.000000   \n",
       "25%       23.000000      0.000000                 0.000000   \n",
       "50%       26.000000      0.000000                 0.000000   \n",
       "75%       33.000000      0.000000                 0.000000   \n",
       "max       99.000000      1.000000                 1.000000   \n",
       "\n",
       "       experience_Less than 1 yr  experience_More than 5 years  \\\n",
       "count               10534.000000                  10534.000000   \n",
       "mean                    0.057148                      0.043858   \n",
       "std                     0.232137                      0.204789   \n",
       "min                     0.000000                      0.000000   \n",
       "25%                     0.000000                      0.000000   \n",
       "50%                     0.000000                      0.000000   \n",
       "75%                     0.000000                      0.000000   \n",
       "max                     1.000000                      1.000000   \n",
       "\n",
       "       experience_No experience  experience_not provided  \\\n",
       "count              10534.000000             10534.000000   \n",
       "mean                   0.190906                 0.640782   \n",
       "std                    0.393034                 0.479794   \n",
       "min                    0.000000                 0.000000   \n",
       "25%                    0.000000                 0.000000   \n",
       "50%                    0.000000                 1.000000   \n",
       "75%                    0.000000                 1.000000   \n",
       "max                    1.000000                 1.000000   \n",
       "\n",
       "       education_Class 12th pass  education_Class 9th or below  \\\n",
       "count               10534.000000                  10534.000000   \n",
       "mean                    0.114012                      0.006740   \n",
       "std                     0.317841                      0.081825   \n",
       "min                     0.000000                      0.000000   \n",
       "25%                     0.000000                      0.000000   \n",
       "50%                     0.000000                      0.000000   \n",
       "75%                     0.000000                      0.000000   \n",
       "max                     1.000000                      1.000000   \n",
       "\n",
       "       education_Graduate  education_ITI / Diploma  education_No education  \\\n",
       "count        10534.000000             10534.000000            10534.000000   \n",
       "mean             0.067875                 0.033416                0.061135   \n",
       "std              0.251544                 0.179728                0.239590   \n",
       "min              0.000000                 0.000000                0.000000   \n",
       "25%              0.000000                 0.000000                0.000000   \n",
       "50%              0.000000                 0.000000                0.000000   \n",
       "75%              0.000000                 0.000000                0.000000   \n",
       "max              1.000000                 1.000000                1.000000   \n",
       "\n",
       "       education_not provided  bikeSurvey_Yes  bikeSurvey_not provided  \\\n",
       "count            10534.000000    10534.000000             10534.000000   \n",
       "mean                 0.637650        0.758117                 0.074805   \n",
       "std                  0.480702        0.428244                 0.263090   \n",
       "min                  0.000000        0.000000                 0.000000   \n",
       "25%                  0.000000        1.000000                 0.000000   \n",
       "50%                  1.000000        1.000000                 0.000000   \n",
       "75%                  1.000000        1.000000                 0.000000   \n",
       "max                  1.000000        1.000000                 1.000000   \n",
       "\n",
       "       idDetected_True  drivingLicenseSurvey_Yes  \\\n",
       "count     10534.000000              10534.000000   \n",
       "mean          0.898994                  0.660623   \n",
       "std           0.301351                  0.473520   \n",
       "min           0.000000                  0.000000   \n",
       "25%           1.000000                  0.000000   \n",
       "50%           1.000000                  1.000000   \n",
       "75%           1.000000                  1.000000   \n",
       "max           1.000000                  1.000000   \n",
       "\n",
       "       drivingLicenseSurvey_not provided   married_Yes  married_not provided  \\\n",
       "count                       10534.000000  10534.000000          10534.000000   \n",
       "mean                            0.256123      0.067211              0.649421   \n",
       "std                             0.436511      0.250399              0.477174   \n",
       "min                             0.000000      0.000000              0.000000   \n",
       "25%                             0.000000      0.000000              0.000000   \n",
       "50%                             0.000000      0.000000              1.000000   \n",
       "75%                             1.000000      0.000000              1.000000   \n",
       "max                             1.000000      1.000000              1.000000   \n",
       "\n",
       "       city_Bangalore  city_Delhi/NCR   city_others  city_your city  \\\n",
       "count    10534.000000    10534.000000  10534.000000    10534.000000   \n",
       "mean         0.078792        0.223467      0.385798        0.081071   \n",
       "std          0.269427        0.416588      0.486806        0.272957   \n",
       "min          0.000000        0.000000      0.000000        0.000000   \n",
       "25%          0.000000        0.000000      0.000000        0.000000   \n",
       "50%          0.000000        0.000000      0.000000        0.000000   \n",
       "75%          0.000000        0.000000      1.000000        0.000000   \n",
       "max          1.000000        1.000000      1.000000        1.000000   \n",
       "\n",
       "       title_South Delhi  title_Vastrapur  title_West Delhi (Janakpuri)  \\\n",
       "count       10534.000000     10534.000000                  10534.000000   \n",
       "mean            0.052022         0.230871                      0.051832   \n",
       "std             0.222082         0.421410                      0.221699   \n",
       "min             0.000000         0.000000                      0.000000   \n",
       "25%             0.000000         0.000000                      0.000000   \n",
       "50%             0.000000         0.000000                      0.000000   \n",
       "75%             0.000000         0.000000                      0.000000   \n",
       "max             1.000000         1.000000                      1.000000   \n",
       "\n",
       "       title_others  source_Referrals  source_WhatsApp OptIn Form  \\\n",
       "count   10534.00000      10534.000000                10534.000000   \n",
       "mean        0.59626          0.662996                    0.011961   \n",
       "std         0.49067          0.472709                    0.108717   \n",
       "min         0.00000          0.000000                    0.000000   \n",
       "25%         0.00000          0.000000                    0.000000   \n",
       "50%         1.00000          1.000000                    0.000000   \n",
       "75%         1.00000          1.000000                    0.000000   \n",
       "max         1.00000          1.000000                    1.000000   \n",
       "\n",
       "       source_not provided  source_others  time_whole_conversation(hour)  \\\n",
       "count         10534.000000   10534.000000                   10534.000000   \n",
       "mean              0.000285       0.286121                     352.277767   \n",
       "std               0.016874       0.451968                     718.006987   \n",
       "min               0.000000       0.000000                       0.000000   \n",
       "25%               0.000000       0.000000                      49.000000   \n",
       "50%               0.000000       0.000000                     184.000000   \n",
       "75%               0.000000       1.000000                     242.000000   \n",
       "max               1.000000       1.000000                    4944.000000   \n",
       "\n",
       "       total_message_count  incoming_count  outgoing_count    responding  \\\n",
       "count         10534.000000    10534.000000    10534.000000  1.053400e+04   \n",
       "mean             60.832637       22.136985       38.695652  3.725202e+04   \n",
       "std              83.476012       32.879492       51.144904  1.371072e+05   \n",
       "min              25.000000        8.000000       16.000000  1.321667e+00   \n",
       "25%              37.000000       13.000000       24.000000  1.189769e+01   \n",
       "50%              45.000000       16.000000       29.000000  4.232757e+01   \n",
       "75%              61.000000       22.000000       39.000000  1.786800e+04   \n",
       "max            5319.000000     1872.000000     3447.000000  3.519348e+06   \n",
       "\n",
       "       responding_median  \n",
       "count       10534.000000  \n",
       "mean           25.148520  \n",
       "std           685.040020  \n",
       "min             0.253000  \n",
       "25%             5.474375  \n",
       "50%            10.955750  \n",
       "75%            23.165750  \n",
       "max         69527.473500  "
      ]
     },
     "execution_count": 9,
     "metadata": {},
     "output_type": "execute_result"
    }
   ],
   "source": [
    "df.describe()"
   ]
  },
  {
   "cell_type": "code",
   "execution_count": 10,
   "metadata": {},
   "outputs": [],
   "source": [
    "X = df.drop('label', axis=1)\n",
    "y = df['label']"
   ]
  },
  {
   "cell_type": "code",
   "execution_count": 16,
   "metadata": {},
   "outputs": [],
   "source": [
    "sc = StandardScaler()\n",
    "sc.fit(X)\n",
    "X_std = sc.transform(X)"
   ]
  },
  {
   "cell_type": "markdown",
   "metadata": {},
   "source": [
    "### Visualization"
   ]
  },
  {
   "cell_type": "code",
   "execution_count": 13,
   "metadata": {},
   "outputs": [
    {
     "data": {
      "image/png": "[encoded data removed]",
      "text/plain": [
       "<Figure size 432x288 with 1 Axes>"
      ]
     },
     "metadata": {
      "needs_background": "light"
     },
     "output_type": "display_data"
    }
   ],
   "source": [
    "pca = PCA(n_components=2)\n",
    "X = pca.fit_transform(X)\n",
    "\n",
    "plot_2d_space(X, y, 'Imbalanced dataset (2 PCA components)')"
   ]
  },
  {
   "cell_type": "code",
   "execution_count": 17,
   "metadata": {},
   "outputs": [
    {
     "data": {
      "image/png": "[encoded data removed]",
      "text/plain": [
       "<Figure size 432x288 with 1 Axes>"
      ]
     },
     "metadata": {
      "needs_background": "light"
     },
     "output_type": "display_data"
    }
   ],
   "source": [
    "pca = PCA(n_components=2)\n",
    "X_std = pca.fit_transform(X_std)\n",
    "\n",
    "plot_2d_space(X_std, y, 'Imbalanced dataset (2 PCA components)_standandrized')"
   ]
  },
  {
   "cell_type": "markdown",
   "metadata": {},
   "source": [
    "# correlation"
   ]
  },
  {
   "cell_type": "code",
   "execution_count": 19,
   "metadata": {},
   "outputs": [],
   "source": [
    "cor = df.corr()"
   ]
  },
  {
   "cell_type": "code",
   "execution_count": 20,
   "metadata": {},
   "outputs": [
    {
     "data": {
      "text/plain": [
       "<matplotlib.axes._subplots.AxesSubplot at 0x11c16ee10>"
      ]
     },
     "execution_count": 20,
     "metadata": {},
     "output_type": "execute_result"
    },
    {
     "data": {
      "image/png": "[encoded data removed]",
      "text/plain": [
       "<Figure size 1080x1080 with 2 Axes>"
      ]
     },
     "metadata": {
      "needs_background": "light"
     },
     "output_type": "display_data"
    }
   ],
   "source": [
    "plt.figure(figsize=(15, 15))\n",
    "sns.heatmap(cor, xticklabels=cor.columns, yticklabels=cor.columns, cmap='PiYG', vmax=1, vmin=-1)"
   ]
  },
  {
   "cell_type": "code",
   "execution_count": null,
   "metadata": {},
   "outputs": [],
   "source": [
    "# total_message_count, incoming_count, and outgoing_count are highly related"
   ]
  },
  {
   "cell_type": "code",
   "execution_count": 25,
   "metadata": {},
   "outputs": [
    {
     "data": {
      "text/plain": [
       "(10534, 38)"
      ]
     },
     "execution_count": 25,
     "metadata": {},
     "output_type": "execute_result"
    }
   ],
   "source": [
    "df.shape"
   ]
  },
  {
   "cell_type": "markdown",
   "metadata": {},
   "source": [
    "# Remove some outliers and columns with high correlation"
   ]
  },
  {
   "cell_type": "code",
   "execution_count": 21,
   "metadata": {},
   "outputs": [],
   "source": [
    "df_cluster = df.copy()\n"
   ]
  },
  {
   "cell_type": "code",
   "execution_count": 22,
   "metadata": {},
   "outputs": [],
   "source": [
    "df_cluster.drop(['total_message_count', 'outgoing_count'], axis=1, inplace=True)"
   ]
  },
  {
   "cell_type": "code",
   "execution_count": 23,
   "metadata": {},
   "outputs": [],
   "source": [
    "# Outliers\n",
    "df_cluster = df_cluster[(df_cluster['responding_median']<500) & (df_cluster['responding']<200000) & (df_cluster['time_whole_conversation(hour)']<1000)]\n"
   ]
  },
  {
   "cell_type": "code",
   "execution_count": 26,
   "metadata": {},
   "outputs": [
    {
     "data": {
      "image/png": "[encoded data removed]",
      "text/plain": [
       "<Figure size 432x288 with 2 Axes>"
      ]
     },
     "metadata": {
      "needs_background": "light"
     },
     "output_type": "display_data"
    }
   ],
   "source": [
    "# Before\n",
    "box_dist_plot(df,'responding_median')\n"
   ]
  },
  {
   "cell_type": "code",
   "execution_count": 27,
   "metadata": {},
   "outputs": [
    {
     "data": {
      "image/png": "[encoded data removed]",
      "text/plain": [
       "<Figure size 432x288 with 2 Axes>"
      ]
     },
     "metadata": {
      "needs_background": "light"
     },
     "output_type": "display_data"
    }
   ],
   "source": [
    "# After\n",
    "box_dist_plot(df_cluster,'responding_median')"
   ]
  },
  {
   "cell_type": "code",
   "execution_count": 28,
   "metadata": {},
   "outputs": [
    {
     "data": {
      "image/png": "[encoded data removed]",
      "text/plain": [
       "<Figure size 432x288 with 2 Axes>"
      ]
     },
     "metadata": {
      "needs_background": "light"
     },
     "output_type": "display_data"
    }
   ],
   "source": [
    "# Before\n",
    "box_dist_plot(df,'responding')"
   ]
  },
  {
   "cell_type": "code",
   "execution_count": 29,
   "metadata": {},
   "outputs": [
    {
     "data": {
      "image/png": "[encoded data removed]",
      "text/plain": [
       "<Figure size 432x288 with 2 Axes>"
      ]
     },
     "metadata": {
      "needs_background": "light"
     },
     "output_type": "display_data"
    }
   ],
   "source": [
    "# After\n",
    "box_dist_plot(df_cluster,'responding')"
   ]
  },
  {
   "cell_type": "code",
   "execution_count": 30,
   "metadata": {},
   "outputs": [
    {
     "data": {
      "image/png": "[encoded data removed]",
      "text/plain": [
       "<Figure size 432x288 with 2 Axes>"
      ]
     },
     "metadata": {
      "needs_background": "light"
     },
     "output_type": "display_data"
    }
   ],
   "source": [
    "# Before\n",
    "box_dist_plot(df,'time_whole_conversation(hour)')"
   ]
  },
  {
   "cell_type": "code",
   "execution_count": 31,
   "metadata": {},
   "outputs": [
    {
     "data": {
      "image/png": "[encoded data removed]",
      "text/plain": [
       "<Figure size 432x288 with 2 Axes>"
      ]
     },
     "metadata": {
      "needs_background": "light"
     },
     "output_type": "display_data"
    }
   ],
   "source": [
    "# After\n",
    "box_dist_plot(df_cluster,'time_whole_conversation(hour)')"
   ]
  },
  {
   "cell_type": "code",
   "execution_count": 266,
   "metadata": {},
   "outputs": [],
   "source": [
    "X = df_cluster.drop('label', axis=1)\n",
    "y = df_cluster['label']"
   ]
  },
  {
   "cell_type": "code",
   "execution_count": 33,
   "metadata": {},
   "outputs": [
    {
     "data": {
      "text/plain": [
       "Text(0.5, 1.0, 'Imbalanced dataset')"
      ]
     },
     "execution_count": 33,
     "metadata": {},
     "output_type": "execute_result"
    },
    {
     "data": {
      "image/png": "[encoded data removed]",
      "text/plain": [
       "<Figure size 432x288 with 1 Axes>"
      ]
     },
     "metadata": {
      "needs_background": "light"
     },
     "output_type": "display_data"
    }
   ],
   "source": [
    "plt.bar(range(2),[y.value_counts()[0],y.value_counts()[1]])\n",
    "plt.xticks([0,1],['Non-serious','Serious'])\n",
    "plt.title('Imbalanced dataset')\n",
    "#plt.savefig('Imbalanced dataset.png')"
   ]
  },
  {
   "cell_type": "code",
   "execution_count": 34,
   "metadata": {},
   "outputs": [
    {
     "data": {
      "text/plain": [
       "(9694, 36)"
      ]
     },
     "execution_count": 34,
     "metadata": {},
     "output_type": "execute_result"
    }
   ],
   "source": [
    "df_cluster.shape\n"
   ]
  },
  {
   "cell_type": "markdown",
   "metadata": {},
   "source": [
    "### visulaizaiton"
   ]
  },
  {
   "cell_type": "code",
   "execution_count": 35,
   "metadata": {},
   "outputs": [
    {
     "data": {
      "image/png": "[encoded data removed]",
      "text/plain": [
       "<Figure size 432x288 with 1 Axes>"
      ]
     },
     "metadata": {
      "needs_background": "light"
     },
     "output_type": "display_data"
    }
   ],
   "source": [
    "pca = PCA(n_components=2)\n",
    "X_pca = pca.fit_transform(X)\n",
    "\n",
    "plot_2d_space(X_pca, y, 'Imbalanced dataset_PCA')\n",
    "#plt.savefig('Imbalanced dataset_PCA.png')"
   ]
  },
  {
   "cell_type": "markdown",
   "metadata": {},
   "source": [
    "### visualization_std"
   ]
  },
  {
   "cell_type": "code",
   "execution_count": 36,
   "metadata": {},
   "outputs": [],
   "source": [
    "sc = StandardScaler()\n",
    "sc.fit(X)\n",
    "X_std = sc.transform(X)"
   ]
  },
  {
   "cell_type": "code",
   "execution_count": 287,
   "metadata": {},
   "outputs": [
    {
     "data": {
      "image/png": "[encoded data removed]",
      "text/plain": [
       "<Figure size 432x288 with 1 Axes>"
      ]
     },
     "metadata": {
      "needs_background": "light"
     },
     "output_type": "display_data"
    }
   ],
   "source": [
    "pca = PCA(n_components=2)\n",
    "X_pca = pca.fit_transform(X_std)\n",
    "\n",
    "plot_2d_space(X_pca, y, 'Imbalanced dataset_PCA')\n",
    "plt.savefig('Imbalanced dataset_std_PCA.png')"
   ]
  },
  {
   "cell_type": "code",
   "execution_count": null,
   "metadata": {},
   "outputs": [],
   "source": []
  },
  {
   "cell_type": "markdown",
   "metadata": {},
   "source": [
    "# [Manual Under-sampling] by clustering"
   ]
  },
  {
   "cell_type": "code",
   "execution_count": 38,
   "metadata": {},
   "outputs": [],
   "source": [
    "from sklearn import datasets\n",
    "from sklearn.cluster import KMeans\n",
    "from scipy.spatial.distance import cdist, pdist\n",
    "import numpy as np"
   ]
  },
  {
   "cell_type": "code",
   "execution_count": 39,
   "metadata": {},
   "outputs": [
    {
     "data": {
      "image/png": "[encoded data removed]",
      "text/plain": [
       "<Figure size 432x288 with 1 Axes>"
      ]
     },
     "metadata": {
      "needs_background": "light"
     },
     "output_type": "display_data"
    }
   ],
   "source": [
    "from sklearn.cluster import KMeans\n",
    "# Choosing the optimal k\n",
    "k_range = range(1,10)\n",
    "# Try clustering the data for k values ranging 1 to 10\n",
    "k_means_var = [KMeans(n_clusters = k).fit(X_std) for k in k_range]\n",
    "centroids = [X.cluster_centers_ for X in k_means_var]\n",
    "\n",
    "k_euclid = [cdist(X, cent, 'euclidean') for cent in centroids]\n",
    "dist = [np.min(ke, axis=1) for ke in k_euclid]\n",
    "\n",
    "# Calculate within-cluster sum of squares\n",
    "wcss = [sum(d**2) for d in dist]\n",
    "\n",
    "# Visualize the elbow method for determining k\n",
    "import matplotlib.pyplot as plt\n",
    "plt.plot(k_range, wcss)\n",
    "plt.show()"
   ]
  },
  {
   "cell_type": "markdown",
   "metadata": {},
   "source": [
    "### 2 clusters"
   ]
  },
  {
   "cell_type": "code",
   "execution_count": 40,
   "metadata": {},
   "outputs": [],
   "source": [
    "k2 = centroids[1]"
   ]
  },
  {
   "cell_type": "code",
   "execution_count": 41,
   "metadata": {},
   "outputs": [
    {
     "data": {
      "text/plain": [
       "array([[-0.4356854 ,  0.33852126,  0.49164158,  0.44141026,  1.00148771,\n",
       "        -1.46779961,  0.71038807,  0.17635182,  0.52923114,  0.37477817,\n",
       "         0.53759574, -1.46256126, -1.20542743,  0.60671618, -0.14770293,\n",
       "        -1.08910184,  0.7911899 ,  0.54678001, -1.46604395, -0.18685434,\n",
       "        -0.27308666,  0.67434933,  0.14220829, -0.08111887, -0.46341462,\n",
       "        -0.16542107,  0.59948111,  0.31879222, -0.06362372,  0.03836381,\n",
       "        -0.35644134,  0.11992188,  0.37694501,  0.1350024 , -0.15430663],\n",
       "       [ 0.19981479, -0.15525321, -0.22547751, -0.20244034, -0.45930402,\n",
       "         0.67316479, -0.3257994 , -0.08087878, -0.2427169 , -0.17188141,\n",
       "        -0.24655309,  0.67076237,  0.55283521, -0.27825322,  0.06773977,\n",
       "         0.49948577, -0.36285688, -0.25076519,  0.67235961,  0.08569546,\n",
       "         0.12524348, -0.30927125, -0.06521981,  0.03720288,  0.21253201,\n",
       "         0.0758657 , -0.27493506, -0.14620504,  0.02917922, -0.01759448,\n",
       "         0.16347174, -0.05499878, -0.17287517, -0.06191503,  0.07076837]])"
      ]
     },
     "execution_count": 41,
     "metadata": {},
     "output_type": "execute_result"
    }
   ],
   "source": [
    "k2"
   ]
  },
  {
   "cell_type": "code",
   "execution_count": 42,
   "metadata": {},
   "outputs": [],
   "source": [
    "pca = PCA(n_components=2)\n",
    "k2 = pca.fit_transform(k2)"
   ]
  },
  {
   "cell_type": "code",
   "execution_count": 43,
   "metadata": {},
   "outputs": [
    {
     "data": {
      "text/plain": [
       "array([[-2.82567912e+00,  8.19002618e-17],\n",
       "       [ 2.82567912e+00,  8.19002618e-17]])"
      ]
     },
     "execution_count": 43,
     "metadata": {},
     "output_type": "execute_result"
    }
   ],
   "source": [
    "k2"
   ]
  },
  {
   "cell_type": "code",
   "execution_count": 51,
   "metadata": {},
   "outputs": [
    {
     "data": {
      "image/png": "[encoded data removed]",
      "text/plain": [
       "<Figure size 432x288 with 1 Axes>"
      ]
     },
     "metadata": {
      "needs_background": "light"
     },
     "output_type": "display_data"
    }
   ],
   "source": [
    "plot_2d_space(X_pca, y, 'Imbalanced data_cluster2_PCA')\n",
    "plt.scatter([k2[0][0], k2[1][0]], [k2[0][1], k2[1][1]], c='black', marker='D', s=100 )\n",
    "#plt.savefig('Imbalanced data_cluster2_PCA.png')"
   ]
  },
  {
   "cell_type": "code",
   "execution_count": 48,
   "metadata": {},
   "outputs": [],
   "source": [
    "pca = PCA(n_components=2)\n",
    "k3 = pca.fit_transform(centroids[2])"
   ]
  },
  {
   "cell_type": "code",
   "execution_count": 49,
   "metadata": {},
   "outputs": [
    {
     "data": {
      "text/plain": [
       "array([[ 3.7956798 , -0.457797  ],\n",
       "       [-1.23749166,  2.20246041],\n",
       "       [-2.55818813, -1.74466341]])"
      ]
     },
     "execution_count": 49,
     "metadata": {},
     "output_type": "execute_result"
    }
   ],
   "source": [
    "k3"
   ]
  },
  {
   "cell_type": "code",
   "execution_count": 52,
   "metadata": {},
   "outputs": [
    {
     "data": {
      "image/png": "[encoded data removed]",
      "text/plain": [
       "<Figure size 432x288 with 1 Axes>"
      ]
     },
     "metadata": {
      "needs_background": "light"
     },
     "output_type": "display_data"
    }
   ],
   "source": [
    "plot_2d_space(X_pca, y, 'Imbalanced data_cluster3_PCA')\n",
    "plt.scatter([k3[0][0], k3[1][0], k3[2][0]], [k3[0][1], k3[1][1], k3[2][1]], c='black', marker='D', s=100 )\n",
    "#plt.savefig('Imbalanced data_cluster3_PCA.png')"
   ]
  },
  {
   "cell_type": "markdown",
   "metadata": {},
   "source": [
    "# [Uunder-sampling]"
   ]
  },
  {
   "cell_type": "code",
   "execution_count": null,
   "metadata": {},
   "outputs": [],
   "source": [
    "from imblearn.over_sampling import RandomOverSampler\n",
    "from imblearn.over_sampling import SMOTE, ADASYN"
   ]
  },
  {
   "cell_type": "markdown",
   "metadata": {},
   "source": [
    "### CC visualization"
   ]
  },
  {
   "cell_type": "code",
   "execution_count": 58,
   "metadata": {},
   "outputs": [
    {
     "data": {
      "image/png": "[encoded data removed]",
      "text/plain": [
       "<Figure size 432x288 with 1 Axes>"
      ]
     },
     "metadata": {
      "needs_background": "light"
     },
     "output_type": "display_data"
    }
   ],
   "source": [
    "from imblearn.under_sampling import ClusterCentroids\n",
    "from sklearn.cluster import KMeans\n",
    "\n",
    "cc = ClusterCentroids(sampling_strategy='majority', estimator=KMeans(n_clusters=2), random_state=42)\n",
    "X_cc, y_cc = cc.fit_resample(X_std, y)\n",
    "\n",
    "pca = PCA(n_components=2)\n",
    "X_pca = pca.fit_transform(X_cc)\n",
    "plot_2d_space(X_pca, y_cc, 'Cluster Centroids under-sampling')\n",
    "#plt.savefig('ClusterCentroids.png')"
   ]
  },
  {
   "cell_type": "markdown",
   "metadata": {},
   "source": [
    "### CC visualization_find outliers and remove it"
   ]
  },
  {
   "cell_type": "code",
   "execution_count": 61,
   "metadata": {},
   "outputs": [
    {
     "name": "stdout",
     "output_type": "stream",
     "text": [
      "13\n"
     ]
    }
   ],
   "source": [
    "for i in range(len(X_pca)):\n",
    "    if X_pca[i][0]>10:\n",
    "        print(i)"
   ]
  },
  {
   "cell_type": "code",
   "execution_count": 72,
   "metadata": {},
   "outputs": [],
   "source": [
    "X_pca_removeoutlier = X_pca.tolist()"
   ]
  },
  {
   "cell_type": "code",
   "execution_count": 73,
   "metadata": {},
   "outputs": [],
   "source": [
    "del X_pca_removeoutlier[13]"
   ]
  },
  {
   "cell_type": "code",
   "execution_count": 77,
   "metadata": {},
   "outputs": [],
   "source": [
    "X_pca_removeoutlier = np.array(X_pca_removeoutlier)"
   ]
  },
  {
   "cell_type": "code",
   "execution_count": 80,
   "metadata": {},
   "outputs": [],
   "source": [
    "y_cc_removeoutlier = y_cc.tolist()"
   ]
  },
  {
   "cell_type": "code",
   "execution_count": 81,
   "metadata": {},
   "outputs": [],
   "source": [
    "del y_cc_removeoutlier[13]"
   ]
  },
  {
   "cell_type": "code",
   "execution_count": 82,
   "metadata": {},
   "outputs": [],
   "source": [
    "y_cc_removeoutlier = np.array(y_cc_removeoutlier)"
   ]
  },
  {
   "cell_type": "code",
   "execution_count": 85,
   "metadata": {},
   "outputs": [
    {
     "data": {
      "image/png": "[encoded data removed]",
      "text/plain": [
       "<Figure size 432x288 with 1 Axes>"
      ]
     },
     "metadata": {
      "needs_background": "light"
     },
     "output_type": "display_data"
    }
   ],
   "source": [
    "plot_2d_space(X_pca_removeoutlier, y_cc_removeoutlier, 'Cluster Centroids under-sampling')\n",
    "#plt.savefig('ClusterCentroids_std_PCA.png')"
   ]
  },
  {
   "cell_type": "code",
   "execution_count": 86,
   "metadata": {},
   "outputs": [
    {
     "data": {
      "text/plain": [
       "Text(0.5, 1.0, 'Balanced dataset after under-sampling')"
      ]
     },
     "execution_count": 86,
     "metadata": {},
     "output_type": "execute_result"
    },
    {
     "data": {
      "image/png": "[encoded data removed]",
      "text/plain": [
       "<Figure size 432x288 with 1 Axes>"
      ]
     },
     "metadata": {
      "needs_background": "light"
     },
     "output_type": "display_data"
    }
   ],
   "source": [
    "plt.bar(range(2),[39, 39])\n",
    "plt.xticks([0,1],['Non-serious','Serious'])\n",
    "plt.title('Balanced dataset after under-sampling')\n",
    "#plt.savefig('Balanced dataset after under-sampling.png')"
   ]
  },
  {
   "cell_type": "markdown",
   "metadata": {},
   "source": [
    "### CNN visualization"
   ]
  },
  {
   "cell_type": "code",
   "execution_count": null,
   "metadata": {},
   "outputs": [],
   "source": [
    "from imblearn.under_sampling import CondensedNearestNeighbour\n",
    "cnn = CondensedNearestNeighbour(sampling_strategy='majority')\n",
    "X_cnn, y_cnn = cnn.fit_resample(X, y)\n",
    "\n",
    "pca = PCA(n_components=2)\n",
    "X_pca = pca.fit_transform(X_cnn)\n",
    "plot_2d_space(X_pca, y_cnn, 'CNN under-sampling')"
   ]
  },
  {
   "cell_type": "markdown",
   "metadata": {},
   "source": [
    "### ENN visualization"
   ]
  },
  {
   "cell_type": "code",
   "execution_count": null,
   "metadata": {},
   "outputs": [],
   "source": [
    "from imblearn.under_sampling import EditedNearestNeighbours\n",
    "enn = EditedNearestNeighbours(sampling_strategy='majority')\n",
    "X_enn, y_enn = enn.fit_resample(X, y)\n",
    "\n",
    "pca = PCA(n_components=2)\n",
    "X_pca = pca.fit_transform(X_enn)\n",
    "plot_2d_space(X_pca, y_enn, 'ENN under-sampling')"
   ]
  },
  {
   "cell_type": "markdown",
   "metadata": {},
   "source": [
    "### IHT visualization"
   ]
  },
  {
   "cell_type": "code",
   "execution_count": null,
   "metadata": {},
   "outputs": [],
   "source": [
    "from imblearn.under_sampling import InstanceHardnessThreshold\n",
    "iht = InstanceHardnessThreshold()\n",
    "X_iht, y_iht = iht.fit_resample(X,y)\n",
    "\n",
    "pca = PCA(n_components=2)\n",
    "X_pca = pca.fit_transform(X_iht)\n",
    "plot_2d_space(X_pca, y_iht, 'IHT under-sampling')"
   ]
  },
  {
   "cell_type": "code",
   "execution_count": null,
   "metadata": {},
   "outputs": [],
   "source": []
  },
  {
   "cell_type": "code",
   "execution_count": 88,
   "metadata": {},
   "outputs": [],
   "source": [
    "from sklearn.model_selection import train_test_split\n",
    "from sklearn.preprocessing import StandardScaler\n",
    "from sklearn.decomposition import PCA\n",
    "\n",
    "# Modeling\n",
    "from sklearn.linear_model import LogisticRegression\n",
    "from sklearn.ensemble import RandomForestClassifier\n",
    "from sklearn.ensemble import GradientBoostingClassifier\n",
    "from sklearn.ensemble import AdaBoostClassifier\n",
    "from xgboost import XGBClassifier\n",
    "\n",
    "# Validation\n",
    "from sklearn.metrics import precision_recall_fscore_support\n",
    "from sklearn.metrics import confusion_matrix\n",
    "from sklearn.metrics import classification_report\n"
   ]
  },
  {
   "cell_type": "code",
   "execution_count": 95,
   "metadata": {},
   "outputs": [],
   "source": [
    "def roc_plot(y_test, y_pred_prob, title):\n",
    "    from sklearn.metrics import roc_curve\n",
    "    # Generate ROC curve values: fpr, tpr, thresholds\n",
    "    fpr, tpr, thresholds = roc_curve(y_test, y_pred_prob)\n",
    "\n",
    "    # Plot ROC curve\n",
    "    plt.plot([0, 1], [0, 1], 'k--')\n",
    "    plt.plot(fpr, tpr)\n",
    "    plt.xlabel('False Positive Rate')\n",
    "    plt.ylabel('True Positive Rate')\n",
    "    plt.title(title)"
   ]
  },
  {
   "cell_type": "markdown",
   "metadata": {},
   "source": [
    "# Train test split"
   ]
  },
  {
   "cell_type": "code",
   "execution_count": 89,
   "metadata": {},
   "outputs": [],
   "source": [
    "X_train, X_test, y_train, y_test = train_test_split(X_std, y, test_size=0.3, random_state=4, stratify=y)"
   ]
  },
  {
   "cell_type": "markdown",
   "metadata": {},
   "source": [
    "### training data + visualization"
   ]
  },
  {
   "cell_type": "code",
   "execution_count": 90,
   "metadata": {},
   "outputs": [
    {
     "data": {
      "image/png": "[encoded data removed]",
      "text/plain": [
       "<Figure size 432x288 with 1 Axes>"
      ]
     },
     "metadata": {
      "needs_background": "light"
     },
     "output_type": "display_data"
    }
   ],
   "source": [
    "pca = PCA(n_components=2)\n",
    "X_pca = pca.fit_transform(X_train)\n",
    "plot_2d_space(X_pca, y_train, 'training data')"
   ]
  },
  {
   "cell_type": "markdown",
   "metadata": {},
   "source": [
    "### testing data + visualization"
   ]
  },
  {
   "cell_type": "code",
   "execution_count": 91,
   "metadata": {},
   "outputs": [
    {
     "data": {
      "image/png": "[encoded data removed]",
      "text/plain": [
       "<Figure size 432x288 with 1 Axes>"
      ]
     },
     "metadata": {
      "needs_background": "light"
     },
     "output_type": "display_data"
    }
   ],
   "source": [
    "pca = PCA(n_components=2)\n",
    "X_pca = pca.fit_transform(X_test)\n",
    "plot_2d_space(X_pca, y_test, 'Testing data')"
   ]
  },
  {
   "cell_type": "code",
   "execution_count": null,
   "metadata": {},
   "outputs": [],
   "source": []
  },
  {
   "cell_type": "markdown",
   "metadata": {},
   "source": [
    "# KNN"
   ]
  },
  {
   "cell_type": "code",
   "execution_count": 300,
   "metadata": {},
   "outputs": [
    {
     "data": {
      "text/plain": [
       "KNeighborsClassifier(algorithm='auto', leaf_size=30, metric='minkowski',\n",
       "                     metric_params=None, n_jobs=None, n_neighbors=4, p=2,\n",
       "                     weights='uniform')"
      ]
     },
     "execution_count": 300,
     "metadata": {},
     "output_type": "execute_result"
    }
   ],
   "source": [
    "from sklearn.neighbors import KNeighborsClassifier\n",
    "knn = KNeighborsClassifier(n_neighbors=4, metric='minkowski', p=2)\n",
    "knn.fit(X_train, y_train)"
   ]
  },
  {
   "cell_type": "code",
   "execution_count": 308,
   "metadata": {},
   "outputs": [],
   "source": [
    "y_pred = knn.predict(X_test)\n",
    "y_pred_prob = knn.predict_proba(X_test)[:,1]"
   ]
  },
  {
   "cell_type": "code",
   "execution_count": 309,
   "metadata": {},
   "outputs": [
    {
     "data": {
      "text/plain": [
       "array([[2897,    0],\n",
       "       [  12,    0]])"
      ]
     },
     "execution_count": 309,
     "metadata": {},
     "output_type": "execute_result"
    }
   ],
   "source": [
    "confusion_matrix(y_test, y_pred)"
   ]
  },
  {
   "cell_type": "code",
   "execution_count": 320,
   "metadata": {},
   "outputs": [
    {
     "name": "stdout",
     "output_type": "stream",
     "text": [
      "Confusion matrix:\n",
      " [[2897    0]\n",
      " [  12    0]]\n"
     ]
    },
    {
     "data": {
      "image/png": "[encoded data removed]",
      "text/plain": [
       "<Figure size 640x480 with 2 Axes>"
      ]
     },
     "metadata": {},
     "output_type": "display_data"
    }
   ],
   "source": [
    "confusion_matrix_plot(y_test, y_pred)"
   ]
  },
  {
   "cell_type": "code",
   "execution_count": 310,
   "metadata": {},
   "outputs": [
    {
     "data": {
      "image/png": "[encoded data removed]",
      "text/plain": [
       "<Figure size 432x288 with 1 Axes>"
      ]
     },
     "metadata": {},
     "output_type": "display_data"
    }
   ],
   "source": [
    "roc_plot(y_test, y_pred_prob, 'KNN')\n",
    "#plt.savefig('KNN.png')\n",
    "\n"
   ]
  },
  {
   "cell_type": "code",
   "execution_count": 313,
   "metadata": {},
   "outputs": [
    {
     "data": {
      "text/plain": [
       "[0.0,\n",
       " 0.0,\n",
       " 0.0,\n",
       " 0.0,\n",
       " 0.0,\n",
       " 0.0,\n",
       " 0.0,\n",
       " 0.0,\n",
       " 0.0,\n",
       " 0.0,\n",
       " 0.0,\n",
       " 0.0,\n",
       " 0.0,\n",
       " 0.0,\n",
       " 0.0,\n",
       " 0.0,\n",
       " 0.0,\n",
       " 0.0,\n",
       " 0.0,\n",
       " 0.0,\n",
       " 0.0,\n",
       " 0.0,\n",
       " 0.0,\n",
       " 0.0,\n",
       " 0.0,\n",
       " 0.0,\n",
       " 0.0,\n",
       " 0.0,\n",
       " 0.0,\n",
       " 0.0,\n",
       " 0.0,\n",
       " 0.0,\n",
       " 0.0,\n",
       " 0.0,\n",
       " 0.0,\n",
       " 0.0,\n",
       " 0.0,\n",
       " 0.0,\n",
       " 0.0,\n",
       " 0.0,\n",
       " 0.0,\n",
       " 0.0,\n",
       " 0.0,\n",
       " 0.0,\n",
       " 0.0,\n",
       " 0.0,\n",
       " 0.0,\n",
       " 0.0,\n",
       " 0.0,\n",
       " 0.0,\n",
       " 0.0,\n",
       " 0.0,\n",
       " 0.0,\n",
       " 0.0,\n",
       " 0.0,\n",
       " 0.0,\n",
       " 0.0,\n",
       " 0.0,\n",
       " 0.0,\n",
       " 0.0,\n",
       " 0.0,\n",
       " 0.0,\n",
       " 0.0,\n",
       " 0.0,\n",
       " 0.0,\n",
       " 0.0,\n",
       " 0.0,\n",
       " 0.0,\n",
       " 0.0,\n",
       " 0.0,\n",
       " 0.0,\n",
       " 0.0,\n",
       " 0.0,\n",
       " 0.0,\n",
       " 0.0,\n",
       " 0.0,\n",
       " 0.0,\n",
       " 0.0,\n",
       " 0.0,\n",
       " 0.0,\n",
       " 0.0,\n",
       " 0.0,\n",
       " 0.0,\n",
       " 0.0,\n",
       " 0.0,\n",
       " 0.25,\n",
       " 0.0,\n",
       " 0.0,\n",
       " 0.0,\n",
       " 0.0,\n",
       " 0.0,\n",
       " 0.0,\n",
       " 0.0,\n",
       " 0.0,\n",
       " 0.0,\n",
       " 0.0,\n",
       " 0.0,\n",
       " 0.0,\n",
       " 0.0,\n",
       " 0.0,\n",
       " 0.0,\n",
       " 0.0,\n",
       " 0.0,\n",
       " 0.0,\n",
       " 0.0,\n",
       " 0.0,\n",
       " 0.0,\n",
       " 0.0,\n",
       " 0.0,\n",
       " 0.0,\n",
       " 0.0,\n",
       " 0.0,\n",
       " 0.0,\n",
       " 0.0,\n",
       " 0.0,\n",
       " 0.0,\n",
       " 0.0,\n",
       " 0.0,\n",
       " 0.0,\n",
       " 0.0,\n",
       " 0.0,\n",
       " 0.0,\n",
       " 0.25,\n",
       " 0.0,\n",
       " 0.0,\n",
       " 0.0,\n",
       " 0.0,\n",
       " 0.0,\n",
       " 0.0,\n",
       " 0.0,\n",
       " 0.0,\n",
       " 0.0,\n",
       " 0.0,\n",
       " 0.0,\n",
       " 0.0,\n",
       " 0.0,\n",
       " 0.0,\n",
       " 0.0,\n",
       " 0.0,\n",
       " 0.0,\n",
       " 0.0,\n",
       " 0.0,\n",
       " 0.0,\n",
       " 0.0,\n",
       " 0.0,\n",
       " 0.0,\n",
       " 0.0,\n",
       " 0.0,\n",
       " 0.0,\n",
       " 0.0,\n",
       " 0.0,\n",
       " 0.0,\n",
       " 0.0,\n",
       " 0.0,\n",
       " 0.0,\n",
       " 0.0,\n",
       " 0.0,\n",
       " 0.0,\n",
       " 0.0,\n",
       " 0.0,\n",
       " 0.0,\n",
       " 0.0,\n",
       " 0.0,\n",
       " 0.0,\n",
       " 0.0,\n",
       " 0.0,\n",
       " 0.0,\n",
       " 0.0,\n",
       " 0.0,\n",
       " 0.0,\n",
       " 0.0,\n",
       " 0.0,\n",
       " 0.0,\n",
       " 0.0,\n",
       " 0.0,\n",
       " 0.0,\n",
       " 0.0,\n",
       " 0.0,\n",
       " 0.0,\n",
       " 0.0,\n",
       " 0.0,\n",
       " 0.0,\n",
       " 0.0,\n",
       " 0.0,\n",
       " 0.0,\n",
       " 0.0,\n",
       " 0.0,\n",
       " 0.0,\n",
       " 0.0,\n",
       " 0.0,\n",
       " 0.0,\n",
       " 0.0,\n",
       " 0.0,\n",
       " 0.0,\n",
       " 0.0,\n",
       " 0.0,\n",
       " 0.0,\n",
       " 0.0,\n",
       " 0.0,\n",
       " 0.0,\n",
       " 0.0,\n",
       " 0.0,\n",
       " 0.0,\n",
       " 0.0,\n",
       " 0.0,\n",
       " 0.0,\n",
       " 0.0,\n",
       " 0.0,\n",
       " 0.0,\n",
       " 0.0,\n",
       " 0.0,\n",
       " 0.0,\n",
       " 0.0,\n",
       " 0.0,\n",
       " 0.0,\n",
       " 0.0,\n",
       " 0.0,\n",
       " 0.0,\n",
       " 0.25,\n",
       " 0.0,\n",
       " 0.0,\n",
       " 0.0,\n",
       " 0.0,\n",
       " 0.0,\n",
       " 0.0,\n",
       " 0.0,\n",
       " 0.0,\n",
       " 0.0,\n",
       " 0.0,\n",
       " 0.0,\n",
       " 0.0,\n",
       " 0.0,\n",
       " 0.0,\n",
       " 0.0,\n",
       " 0.0,\n",
       " 0.0,\n",
       " 0.0,\n",
       " 0.0,\n",
       " 0.0,\n",
       " 0.0,\n",
       " 0.0,\n",
       " 0.0,\n",
       " 0.0,\n",
       " 0.0,\n",
       " 0.25,\n",
       " 0.0,\n",
       " 0.0,\n",
       " 0.0,\n",
       " 0.0,\n",
       " 0.0,\n",
       " 0.0,\n",
       " 0.0,\n",
       " 0.0,\n",
       " 0.0,\n",
       " 0.0,\n",
       " 0.0,\n",
       " 0.0,\n",
       " 0.0,\n",
       " 0.0,\n",
       " 0.0,\n",
       " 0.0,\n",
       " 0.0,\n",
       " 0.0,\n",
       " 0.0,\n",
       " 0.0,\n",
       " 0.0,\n",
       " 0.0,\n",
       " 0.0,\n",
       " 0.0,\n",
       " 0.0,\n",
       " 0.25,\n",
       " 0.0,\n",
       " 0.0,\n",
       " 0.0,\n",
       " 0.0,\n",
       " 0.0,\n",
       " 0.0,\n",
       " 0.0,\n",
       " 0.0,\n",
       " 0.0,\n",
       " 0.0,\n",
       " 0.0,\n",
       " 0.0,\n",
       " 0.0,\n",
       " 0.25,\n",
       " 0.0,\n",
       " 0.0,\n",
       " 0.0,\n",
       " 0.0,\n",
       " 0.0,\n",
       " 0.0,\n",
       " 0.0,\n",
       " 0.0,\n",
       " 0.0,\n",
       " 0.0,\n",
       " 0.0,\n",
       " 0.0,\n",
       " 0.0,\n",
       " 0.0,\n",
       " 0.0,\n",
       " 0.0,\n",
       " 0.0,\n",
       " 0.0,\n",
       " 0.0,\n",
       " 0.0,\n",
       " 0.0,\n",
       " 0.0,\n",
       " 0.0,\n",
       " 0.0,\n",
       " 0.0,\n",
       " 0.0,\n",
       " 0.0,\n",
       " 0.0,\n",
       " 0.0,\n",
       " 0.0,\n",
       " 0.0,\n",
       " 0.0,\n",
       " 0.0,\n",
       " 0.0,\n",
       " 0.0,\n",
       " 0.0,\n",
       " 0.0,\n",
       " 0.0,\n",
       " 0.0,\n",
       " 0.25,\n",
       " 0.0,\n",
       " 0.0,\n",
       " 0.0,\n",
       " 0.0,\n",
       " 0.0,\n",
       " 0.0,\n",
       " 0.0,\n",
       " 0.0,\n",
       " 0.0,\n",
       " 0.0,\n",
       " 0.0,\n",
       " 0.0,\n",
       " 0.0,\n",
       " 0.0,\n",
       " 0.0,\n",
       " 0.0,\n",
       " 0.0,\n",
       " 0.0,\n",
       " 0.0,\n",
       " 0.0,\n",
       " 0.0,\n",
       " 0.0,\n",
       " 0.0,\n",
       " 0.0,\n",
       " 0.0,\n",
       " 0.0,\n",
       " 0.0,\n",
       " 0.0,\n",
       " 0.0,\n",
       " 0.0,\n",
       " 0.0,\n",
       " 0.0,\n",
       " 0.0,\n",
       " 0.0,\n",
       " 0.0,\n",
       " 0.0,\n",
       " 0.0,\n",
       " 0.0,\n",
       " 0.0,\n",
       " 0.0,\n",
       " 0.0,\n",
       " 0.0,\n",
       " 0.0,\n",
       " 0.0,\n",
       " 0.0,\n",
       " 0.0,\n",
       " 0.0,\n",
       " 0.0,\n",
       " 0.0,\n",
       " 0.0,\n",
       " 0.0,\n",
       " 0.0,\n",
       " 0.25,\n",
       " 0.0,\n",
       " 0.0,\n",
       " 0.0,\n",
       " 0.0,\n",
       " 0.0,\n",
       " 0.0,\n",
       " 0.0,\n",
       " 0.0,\n",
       " 0.0,\n",
       " 0.0,\n",
       " 0.0,\n",
       " 0.0,\n",
       " 0.0,\n",
       " 0.0,\n",
       " 0.0,\n",
       " 0.0,\n",
       " 0.0,\n",
       " 0.0,\n",
       " 0.0,\n",
       " 0.0,\n",
       " 0.0,\n",
       " 0.0,\n",
       " 0.0,\n",
       " 0.0,\n",
       " 0.0,\n",
       " 0.0,\n",
       " 0.0,\n",
       " 0.0,\n",
       " 0.0,\n",
       " 0.0,\n",
       " 0.0,\n",
       " 0.0,\n",
       " 0.0,\n",
       " 0.0,\n",
       " 0.0,\n",
       " 0.0,\n",
       " 0.0,\n",
       " 0.0,\n",
       " 0.0,\n",
       " 0.0,\n",
       " 0.0,\n",
       " 0.0,\n",
       " 0.0,\n",
       " 0.0,\n",
       " 0.0,\n",
       " 0.0,\n",
       " 0.0,\n",
       " 0.0,\n",
       " 0.25,\n",
       " 0.0,\n",
       " 0.0,\n",
       " 0.0,\n",
       " 0.0,\n",
       " 0.25,\n",
       " 0.0,\n",
       " 0.0,\n",
       " 0.0,\n",
       " 0.0,\n",
       " 0.0,\n",
       " 0.0,\n",
       " 0.0,\n",
       " 0.0,\n",
       " 0.0,\n",
       " 0.0,\n",
       " 0.0,\n",
       " 0.0,\n",
       " 0.0,\n",
       " 0.0,\n",
       " 0.0,\n",
       " 0.0,\n",
       " 0.0,\n",
       " 0.0,\n",
       " 0.0,\n",
       " 0.0,\n",
       " 0.0,\n",
       " 0.0,\n",
       " 0.0,\n",
       " 0.0,\n",
       " 0.0,\n",
       " 0.0,\n",
       " 0.0,\n",
       " 0.0,\n",
       " 0.0,\n",
       " 0.0,\n",
       " 0.0,\n",
       " 0.0,\n",
       " 0.0,\n",
       " 0.0,\n",
       " 0.0,\n",
       " 0.0,\n",
       " 0.0,\n",
       " 0.0,\n",
       " 0.0,\n",
       " 0.0,\n",
       " 0.0,\n",
       " 0.0,\n",
       " 0.0,\n",
       " 0.0,\n",
       " 0.0,\n",
       " 0.0,\n",
       " 0.0,\n",
       " 0.0,\n",
       " 0.0,\n",
       " 0.0,\n",
       " 0.0,\n",
       " 0.0,\n",
       " 0.0,\n",
       " 0.0,\n",
       " 0.0,\n",
       " 0.0,\n",
       " 0.0,\n",
       " 0.0,\n",
       " 0.0,\n",
       " 0.0,\n",
       " 0.0,\n",
       " 0.0,\n",
       " 0.0,\n",
       " 0.0,\n",
       " 0.0,\n",
       " 0.0,\n",
       " 0.0,\n",
       " 0.0,\n",
       " 0.0,\n",
       " 0.0,\n",
       " 0.0,\n",
       " 0.0,\n",
       " 0.0,\n",
       " 0.0,\n",
       " 0.0,\n",
       " 0.0,\n",
       " 0.0,\n",
       " 0.0,\n",
       " 0.0,\n",
       " 0.0,\n",
       " 0.0,\n",
       " 0.0,\n",
       " 0.0,\n",
       " 0.0,\n",
       " 0.0,\n",
       " 0.0,\n",
       " 0.0,\n",
       " 0.0,\n",
       " 0.0,\n",
       " 0.0,\n",
       " 0.0,\n",
       " 0.0,\n",
       " 0.0,\n",
       " 0.0,\n",
       " 0.0,\n",
       " 0.0,\n",
       " 0.0,\n",
       " 0.0,\n",
       " 0.0,\n",
       " 0.0,\n",
       " 0.0,\n",
       " 0.0,\n",
       " 0.0,\n",
       " 0.0,\n",
       " 0.0,\n",
       " 0.0,\n",
       " 0.0,\n",
       " 0.0,\n",
       " 0.0,\n",
       " 0.0,\n",
       " 0.0,\n",
       " 0.0,\n",
       " 0.0,\n",
       " 0.0,\n",
       " 0.0,\n",
       " 0.0,\n",
       " 0.0,\n",
       " 0.0,\n",
       " 0.0,\n",
       " 0.0,\n",
       " 0.0,\n",
       " 0.0,\n",
       " 0.0,\n",
       " 0.0,\n",
       " 0.0,\n",
       " 0.0,\n",
       " 0.0,\n",
       " 0.0,\n",
       " 0.0,\n",
       " 0.0,\n",
       " 0.0,\n",
       " 0.0,\n",
       " 0.0,\n",
       " 0.0,\n",
       " 0.0,\n",
       " 0.0,\n",
       " 0.0,\n",
       " 0.25,\n",
       " 0.0,\n",
       " 0.0,\n",
       " 0.0,\n",
       " 0.0,\n",
       " 0.0,\n",
       " 0.0,\n",
       " 0.0,\n",
       " 0.0,\n",
       " 0.0,\n",
       " 0.0,\n",
       " 0.0,\n",
       " 0.0,\n",
       " 0.0,\n",
       " 0.0,\n",
       " 0.0,\n",
       " 0.0,\n",
       " 0.0,\n",
       " 0.0,\n",
       " 0.0,\n",
       " 0.0,\n",
       " 0.0,\n",
       " 0.0,\n",
       " 0.0,\n",
       " 0.0,\n",
       " 0.0,\n",
       " 0.0,\n",
       " 0.0,\n",
       " 0.0,\n",
       " 0.0,\n",
       " 0.0,\n",
       " 0.0,\n",
       " 0.0,\n",
       " 0.0,\n",
       " 0.0,\n",
       " 0.0,\n",
       " 0.0,\n",
       " 0.0,\n",
       " 0.0,\n",
       " 0.0,\n",
       " 0.0,\n",
       " 0.0,\n",
       " 0.0,\n",
       " 0.0,\n",
       " 0.0,\n",
       " 0.0,\n",
       " 0.0,\n",
       " 0.0,\n",
       " 0.0,\n",
       " 0.0,\n",
       " 0.0,\n",
       " 0.0,\n",
       " 0.0,\n",
       " 0.0,\n",
       " 0.0,\n",
       " 0.0,\n",
       " 0.0,\n",
       " 0.0,\n",
       " 0.0,\n",
       " 0.0,\n",
       " 0.0,\n",
       " 0.0,\n",
       " 0.0,\n",
       " 0.0,\n",
       " 0.0,\n",
       " 0.0,\n",
       " 0.0,\n",
       " 0.0,\n",
       " 0.0,\n",
       " 0.0,\n",
       " 0.0,\n",
       " 0.0,\n",
       " 0.0,\n",
       " 0.0,\n",
       " 0.0,\n",
       " 0.0,\n",
       " 0.0,\n",
       " 0.0,\n",
       " 0.0,\n",
       " 0.0,\n",
       " 0.0,\n",
       " 0.0,\n",
       " 0.0,\n",
       " 0.0,\n",
       " 0.0,\n",
       " 0.0,\n",
       " 0.0,\n",
       " 0.0,\n",
       " 0.0,\n",
       " 0.0,\n",
       " 0.0,\n",
       " 0.0,\n",
       " 0.0,\n",
       " 0.0,\n",
       " 0.0,\n",
       " 0.0,\n",
       " 0.0,\n",
       " 0.0,\n",
       " 0.0,\n",
       " 0.0,\n",
       " 0.0,\n",
       " 0.0,\n",
       " 0.0,\n",
       " 0.0,\n",
       " 0.0,\n",
       " 0.0,\n",
       " 0.0,\n",
       " 0.0,\n",
       " 0.0,\n",
       " 0.0,\n",
       " 0.0,\n",
       " 0.0,\n",
       " 0.0,\n",
       " 0.0,\n",
       " 0.0,\n",
       " 0.0,\n",
       " 0.0,\n",
       " 0.0,\n",
       " 0.0,\n",
       " 0.0,\n",
       " 0.0,\n",
       " 0.0,\n",
       " 0.0,\n",
       " 0.0,\n",
       " 0.0,\n",
       " 0.0,\n",
       " 0.0,\n",
       " 0.0,\n",
       " 0.0,\n",
       " 0.0,\n",
       " 0.0,\n",
       " 0.0,\n",
       " 0.0,\n",
       " 0.0,\n",
       " 0.0,\n",
       " 0.0,\n",
       " 0.0,\n",
       " 0.0,\n",
       " 0.0,\n",
       " 0.0,\n",
       " 0.0,\n",
       " 0.0,\n",
       " 0.0,\n",
       " 0.0,\n",
       " 0.0,\n",
       " 0.0,\n",
       " 0.0,\n",
       " 0.0,\n",
       " 0.0,\n",
       " 0.0,\n",
       " 0.0,\n",
       " 0.0,\n",
       " 0.0,\n",
       " 0.0,\n",
       " 0.0,\n",
       " 0.0,\n",
       " 0.0,\n",
       " 0.0,\n",
       " 0.0,\n",
       " 0.0,\n",
       " 0.0,\n",
       " 0.0,\n",
       " 0.0,\n",
       " 0.0,\n",
       " 0.0,\n",
       " 0.0,\n",
       " 0.0,\n",
       " 0.0,\n",
       " 0.0,\n",
       " 0.0,\n",
       " 0.0,\n",
       " 0.0,\n",
       " 0.0,\n",
       " 0.0,\n",
       " 0.0,\n",
       " 0.0,\n",
       " 0.0,\n",
       " 0.0,\n",
       " 0.0,\n",
       " 0.0,\n",
       " 0.0,\n",
       " 0.0,\n",
       " 0.0,\n",
       " 0.0,\n",
       " 0.0,\n",
       " 0.0,\n",
       " 0.0,\n",
       " 0.0,\n",
       " 0.0,\n",
       " 0.0,\n",
       " 0.0,\n",
       " 0.0,\n",
       " 0.0,\n",
       " 0.0,\n",
       " 0.0,\n",
       " 0.0,\n",
       " 0.0,\n",
       " 0.0,\n",
       " 0.0,\n",
       " 0.0,\n",
       " 0.0,\n",
       " 0.0,\n",
       " 0.0,\n",
       " 0.0,\n",
       " 0.0,\n",
       " 0.0,\n",
       " 0.0,\n",
       " 0.0,\n",
       " 0.0,\n",
       " 0.0,\n",
       " 0.0,\n",
       " 0.0,\n",
       " 0.0,\n",
       " 0.0,\n",
       " 0.0,\n",
       " 0.0,\n",
       " 0.0,\n",
       " 0.0,\n",
       " 0.0,\n",
       " 0.0,\n",
       " 0.0,\n",
       " 0.25,\n",
       " 0.0,\n",
       " 0.0,\n",
       " 0.0,\n",
       " 0.0,\n",
       " 0.0,\n",
       " 0.0,\n",
       " 0.0,\n",
       " 0.0,\n",
       " 0.0,\n",
       " 0.0,\n",
       " 0.0,\n",
       " 0.0,\n",
       " 0.0,\n",
       " 0.0,\n",
       " 0.0,\n",
       " 0.0,\n",
       " 0.0,\n",
       " 0.0,\n",
       " 0.0,\n",
       " 0.0,\n",
       " 0.0,\n",
       " 0.0,\n",
       " 0.25,\n",
       " 0.0,\n",
       " 0.0,\n",
       " 0.0,\n",
       " 0.0,\n",
       " 0.0,\n",
       " 0.0,\n",
       " 0.0,\n",
       " 0.25,\n",
       " 0.0,\n",
       " 0.0,\n",
       " 0.0,\n",
       " 0.0,\n",
       " 0.0,\n",
       " 0.0,\n",
       " 0.0,\n",
       " 0.0,\n",
       " 0.25,\n",
       " 0.0,\n",
       " 0.0,\n",
       " 0.0,\n",
       " 0.0,\n",
       " 0.0,\n",
       " 0.0,\n",
       " 0.0,\n",
       " 0.0,\n",
       " 0.0,\n",
       " 0.0,\n",
       " 0.0,\n",
       " 0.0,\n",
       " 0.0,\n",
       " 0.0,\n",
       " 0.0,\n",
       " 0.0,\n",
       " 0.0,\n",
       " 0.0,\n",
       " 0.0,\n",
       " 0.0,\n",
       " 0.0,\n",
       " 0.0,\n",
       " 0.0,\n",
       " 0.0,\n",
       " 0.0,\n",
       " 0.0,\n",
       " 0.0,\n",
       " 0.0,\n",
       " 0.25,\n",
       " 0.0,\n",
       " 0.0,\n",
       " 0.0,\n",
       " 0.0,\n",
       " 0.0,\n",
       " 0.0,\n",
       " 0.0,\n",
       " 0.0,\n",
       " 0.0,\n",
       " 0.0,\n",
       " 0.0,\n",
       " 0.0,\n",
       " 0.0,\n",
       " 0.0,\n",
       " 0.0,\n",
       " 0.0,\n",
       " 0.0,\n",
       " 0.0,\n",
       " 0.0,\n",
       " 0.0,\n",
       " 0.0,\n",
       " 0.0,\n",
       " 0.0,\n",
       " 0.0,\n",
       " 0.0,\n",
       " 0.0,\n",
       " 0.0,\n",
       " 0.0,\n",
       " 0.0,\n",
       " 0.0,\n",
       " 0.0,\n",
       " 0.0,\n",
       " 0.0,\n",
       " 0.0,\n",
       " 0.0,\n",
       " 0.0,\n",
       " 0.0,\n",
       " 0.0,\n",
       " 0.0,\n",
       " 0.0,\n",
       " 0.0,\n",
       " 0.0,\n",
       " 0.0,\n",
       " 0.0,\n",
       " 0.0,\n",
       " 0.0,\n",
       " 0.0,\n",
       " 0.0,\n",
       " 0.0,\n",
       " 0.0,\n",
       " 0.0,\n",
       " 0.0,\n",
       " 0.0,\n",
       " 0.0,\n",
       " 0.0,\n",
       " 0.0,\n",
       " 0.0,\n",
       " 0.0,\n",
       " 0.0,\n",
       " 0.0,\n",
       " 0.0,\n",
       " 0.0,\n",
       " 0.0,\n",
       " 0.0,\n",
       " 0.0,\n",
       " 0.0,\n",
       " 0.0,\n",
       " 0.0,\n",
       " 0.0,\n",
       " 0.0,\n",
       " 0.0,\n",
       " 0.0,\n",
       " 0.0,\n",
       " 0.0,\n",
       " 0.0,\n",
       " 0.0,\n",
       " 0.0,\n",
       " 0.0,\n",
       " 0.0,\n",
       " 0.0,\n",
       " 0.0,\n",
       " 0.0,\n",
       " 0.0,\n",
       " 0.0,\n",
       " 0.0,\n",
       " 0.0,\n",
       " 0.0,\n",
       " 0.0,\n",
       " 0.0,\n",
       " 0.0,\n",
       " 0.0,\n",
       " 0.0,\n",
       " 0.0,\n",
       " 0.0,\n",
       " 0.0,\n",
       " 0.0,\n",
       " 0.0,\n",
       " 0.0,\n",
       " 0.0,\n",
       " 0.0,\n",
       " 0.0,\n",
       " 0.0,\n",
       " 0.0,\n",
       " 0.0,\n",
       " 0.25,\n",
       " 0.0,\n",
       " 0.0,\n",
       " 0.0,\n",
       " 0.0,\n",
       " 0.0,\n",
       " 0.0,\n",
       " 0.0,\n",
       " 0.0,\n",
       " 0.0,\n",
       " 0.0,\n",
       " 0.0,\n",
       " 0.0,\n",
       " 0.0,\n",
       " 0.0,\n",
       " 0.0,\n",
       " 0.0,\n",
       " 0.0,\n",
       " 0.0,\n",
       " 0.0,\n",
       " 0.0,\n",
       " 0.0,\n",
       " 0.0,\n",
       " 0.0,\n",
       " 0.0,\n",
       " 0.0,\n",
       " 0.0,\n",
       " 0.0,\n",
       " 0.0,\n",
       " 0.0,\n",
       " 0.0,\n",
       " 0.0,\n",
       " 0.0,\n",
       " 0.0,\n",
       " 0.0,\n",
       " 0.0,\n",
       " ...]"
      ]
     },
     "execution_count": 313,
     "metadata": {},
     "output_type": "execute_result"
    }
   ],
   "source": [
    "list(y_pred_prob)"
   ]
  },
  {
   "cell_type": "markdown",
   "metadata": {},
   "source": [
    "# XGboost"
   ]
  },
  {
   "cell_type": "code",
   "execution_count": 304,
   "metadata": {},
   "outputs": [
    {
     "data": {
      "text/plain": [
       "XGBClassifier(base_score=0.5, booster='gbtree', colsample_bylevel=1,\n",
       "              colsample_bynode=1, colsample_bytree=1, gamma=0,\n",
       "              learning_rate=0.05, max_delta_step=0, max_depth=5,\n",
       "              min_child_weight=1, missing=None, n_estimators=300, n_jobs=1,\n",
       "              nthread=None, objective='binary:logistic', random_state=0,\n",
       "              reg_alpha=0, reg_lambda=1, scale_pos_weight=1, seed=None,\n",
       "              silent=None, subsample=1, verbosity=1)"
      ]
     },
     "execution_count": 304,
     "metadata": {},
     "output_type": "execute_result"
    }
   ],
   "source": [
    "xgbrt = XGBClassifier(learning_rate = 0.05, n_estimators=300, max_depth=5)\n",
    "xgbrt.fit(X_train, y_train)"
   ]
  },
  {
   "cell_type": "code",
   "execution_count": 314,
   "metadata": {},
   "outputs": [
    {
     "name": "stdout",
     "output_type": "stream",
     "text": [
      "[[2897    0]\n",
      " [  12    0]]\n"
     ]
    }
   ],
   "source": [
    "y_pred = xgbrt.predict(X_test)\n",
    "y_pred_prob = xgbrt.predict_proba(X_test)[:,1]\n",
    "print(confusion_matrix(y_test, y_pred))"
   ]
  },
  {
   "cell_type": "code",
   "execution_count": 317,
   "metadata": {},
   "outputs": [
    {
     "name": "stdout",
     "output_type": "stream",
     "text": [
      "Confusion matrix:\n",
      " [[2897    0]\n",
      " [  12    0]]\n"
     ]
    },
    {
     "data": {
      "image/png": "[encoded data removed]",
      "text/plain": [
       "<Figure size 640x480 with 2 Axes>"
      ]
     },
     "metadata": {},
     "output_type": "display_data"
    }
   ],
   "source": [
    "confusion_matrix_plot(y_test, y_pred)"
   ]
  },
  {
   "cell_type": "code",
   "execution_count": 318,
   "metadata": {},
   "outputs": [
    {
     "data": {
      "image/png": "[encoded data removed]",
      "text/plain": [
       "<Figure size 640x480 with 1 Axes>"
      ]
     },
     "metadata": {},
     "output_type": "display_data"
    }
   ],
   "source": [
    "roc_plot(y_test, y_pred_prob, 'XGBoosting')\n",
    "plt.savefig('xg.png')\n"
   ]
  },
  {
   "cell_type": "code",
   "execution_count": 319,
   "metadata": {},
   "outputs": [
    {
     "data": {
      "text/plain": [
       "[0.00012527933,\n",
       " 0.033922642,\n",
       " 0.00016466521,\n",
       " 0.00020301096,\n",
       " 0.00065266533,\n",
       " 2.3067692e-05,\n",
       " 8.104303e-05,\n",
       " 0.0016287885,\n",
       " 0.00011113505,\n",
       " 0.00012568147,\n",
       " 6.214987e-05,\n",
       " 2.688064e-05,\n",
       " 0.0009481433,\n",
       " 0.0001689473,\n",
       " 0.00012095086,\n",
       " 0.00038588716,\n",
       " 8.464702e-05,\n",
       " 0.00073849154,\n",
       " 0.000295897,\n",
       " 0.0029532518,\n",
       " 0.00010617342,\n",
       " 0.00076286297,\n",
       " 4.8289523e-05,\n",
       " 0.0022632375,\n",
       " 3.084347e-05,\n",
       " 0.0001381804,\n",
       " 0.0012499737,\n",
       " 4.8870457e-05,\n",
       " 3.1990137e-05,\n",
       " 8.54584e-05,\n",
       " 0.015819423,\n",
       " 0.0003301817,\n",
       " 0.0025529454,\n",
       " 0.00015076208,\n",
       " 2.2995979e-05,\n",
       " 0.001929933,\n",
       " 3.2047512e-05,\n",
       " 8.933162e-05,\n",
       " 0.00010809057,\n",
       " 0.00010389087,\n",
       " 7.9670426e-05,\n",
       " 0.00020731441,\n",
       " 1.9175875e-05,\n",
       " 0.015964843,\n",
       " 7.572648e-05,\n",
       " 0.00015443758,\n",
       " 0.001580739,\n",
       " 0.0030763217,\n",
       " 0.0030275225,\n",
       " 0.00016573572,\n",
       " 0.00014062473,\n",
       " 3.547544e-05,\n",
       " 0.0044363085,\n",
       " 0.00043756812,\n",
       " 3.2047512e-05,\n",
       " 3.9534585e-05,\n",
       " 0.0003096065,\n",
       " 2.2720316e-05,\n",
       " 8.933162e-05,\n",
       " 0.0030599588,\n",
       " 0.0030870978,\n",
       " 0.00013794411,\n",
       " 2.8823895e-05,\n",
       " 0.0011273432,\n",
       " 5.6197023e-05,\n",
       " 3.084347e-05,\n",
       " 0.00010210329,\n",
       " 0.0008072736,\n",
       " 0.007493188,\n",
       " 0.0017242702,\n",
       " 0.00040851446,\n",
       " 5.8224436e-05,\n",
       " 0.0012810304,\n",
       " 0.0009235678,\n",
       " 3.9430062e-05,\n",
       " 0.0007600356,\n",
       " 0.00012610812,\n",
       " 7.572648e-05,\n",
       " 0.00020731441,\n",
       " 4.3519565e-05,\n",
       " 6.9764974e-05,\n",
       " 8.3428866e-05,\n",
       " 0.0001289283,\n",
       " 2.687177e-05,\n",
       " 2.2225933e-05,\n",
       " 0.0031806796,\n",
       " 8.382265e-05,\n",
       " 0.0003350951,\n",
       " 0.00010591335,\n",
       " 0.0055920403,\n",
       " 0.00018801886,\n",
       " 0.00022755895,\n",
       " 0.00035536307,\n",
       " 0.00081129564,\n",
       " 7.165881e-05,\n",
       " 4.1232524e-05,\n",
       " 0.0037922554,\n",
       " 7.967149e-05,\n",
       " 0.00034899233,\n",
       " 2.0544294e-05,\n",
       " 0.0006188287,\n",
       " 0.00068029785,\n",
       " 0.0007073716,\n",
       " 3.084347e-05,\n",
       " 0.00019518407,\n",
       " 0.00013155499,\n",
       " 0.000114562994,\n",
       " 0.011190202,\n",
       " 0.0067014378,\n",
       " 9.389477e-05,\n",
       " 3.971055e-05,\n",
       " 0.00044242173,\n",
       " 0.00014759324,\n",
       " 5.05703e-05,\n",
       " 0.00021783002,\n",
       " 7.9287835e-05,\n",
       " 0.00040845762,\n",
       " 0.000100051795,\n",
       " 0.0007003466,\n",
       " 3.989373e-05,\n",
       " 0.00012885073,\n",
       " 0.0050828024,\n",
       " 0.0038261865,\n",
       " 0.00016795147,\n",
       " 0.0041455054,\n",
       " 0.00052888785,\n",
       " 0.00069381867,\n",
       " 0.0001281314,\n",
       " 0.00034105012,\n",
       " 8.3428866e-05,\n",
       " 0.0010065042,\n",
       " 9.802693e-05,\n",
       " 0.0005303121,\n",
       " 0.0001332269,\n",
       " 0.032692846,\n",
       " 1.9794612e-05,\n",
       " 0.0015817877,\n",
       " 0.00022748149,\n",
       " 4.9166356e-05,\n",
       " 6.9764974e-05,\n",
       " 3.2047512e-05,\n",
       " 0.00039707645,\n",
       " 0.00012610812,\n",
       " 2.8823895e-05,\n",
       " 0.00030298726,\n",
       " 0.00014771968,\n",
       " 9.5413096e-05,\n",
       " 9.5413096e-05,\n",
       " 0.0006283545,\n",
       " 0.0015016269,\n",
       " 0.0024864338,\n",
       " 0.001992943,\n",
       " 6.5829736e-05,\n",
       " 0.0002929335,\n",
       " 0.001874984,\n",
       " 6.9764974e-05,\n",
       " 2.8823895e-05,\n",
       " 0.0021815319,\n",
       " 0.006496091,\n",
       " 6.214987e-05,\n",
       " 9.250851e-05,\n",
       " 0.0035779118,\n",
       " 0.016511466,\n",
       " 3.3199343e-05,\n",
       " 0.00012147052,\n",
       " 9.558868e-05,\n",
       " 0.005829312,\n",
       " 0.00016587865,\n",
       " 0.0215716,\n",
       " 6.0687682e-05,\n",
       " 0.00011626828,\n",
       " 2.8823895e-05,\n",
       " 0.00085794844,\n",
       " 0.01691102,\n",
       " 0.002036707,\n",
       " 0.018054156,\n",
       " 0.0009530663,\n",
       " 0.0006436243,\n",
       " 0.046912614,\n",
       " 0.001043627,\n",
       " 0.0006918411,\n",
       " 3.15292e-05,\n",
       " 0.0011775661,\n",
       " 0.00013598356,\n",
       " 4.584117e-05,\n",
       " 9.12328e-05,\n",
       " 2.8823895e-05,\n",
       " 0.0032553433,\n",
       " 0.00015443758,\n",
       " 0.002028272,\n",
       " 0.0003271692,\n",
       " 0.011082937,\n",
       " 2.8823895e-05,\n",
       " 0.000103886596,\n",
       " 0.0010201631,\n",
       " 0.00059660163,\n",
       " 4.1232524e-05,\n",
       " 2.8823895e-05,\n",
       " 0.0106055,\n",
       " 0.00034899233,\n",
       " 0.037540566,\n",
       " 0.0011005695,\n",
       " 3.152935e-05,\n",
       " 3.2047512e-05,\n",
       " 0.00032390738,\n",
       " 4.145327e-05,\n",
       " 0.00013331725,\n",
       " 9.781795e-05,\n",
       " 0.008069488,\n",
       " 0.0024291815,\n",
       " 0.0031142875,\n",
       " 0.0001760599,\n",
       " 0.00018357318,\n",
       " 0.00023087295,\n",
       " 6.321919e-05,\n",
       " 0.00014314598,\n",
       " 0.0002402607,\n",
       " 0.00013580991,\n",
       " 0.0008729962,\n",
       " 0.00014021019,\n",
       " 2.9727777e-05,\n",
       " 0.0052874098,\n",
       " 0.00068856904,\n",
       " 0.0011108689,\n",
       " 0.0002557054,\n",
       " 2.9727777e-05,\n",
       " 0.003052922,\n",
       " 3.467619e-05,\n",
       " 0.00019379215,\n",
       " 0.0002978622,\n",
       " 4.1232524e-05,\n",
       " 0.0014815256,\n",
       " 0.0011456601,\n",
       " 0.0013302857,\n",
       " 0.00016670188,\n",
       " 0.0011485207,\n",
       " 0.0010192173,\n",
       " 9.12328e-05,\n",
       " 0.0011387743,\n",
       " 0.00020719504,\n",
       " 0.00035832406,\n",
       " 4.5114408e-05,\n",
       " 0.0028422528,\n",
       " 0.001455636,\n",
       " 0.13853508,\n",
       " 0.0004921631,\n",
       " 4.0829116e-05,\n",
       " 4.7260237e-05,\n",
       " 3.8815895e-05,\n",
       " 6.5829736e-05,\n",
       " 0.002316705,\n",
       " 4.584384e-05,\n",
       " 0.0006328328,\n",
       " 7.4207535e-05,\n",
       " 6.5829736e-05,\n",
       " 0.00016626058,\n",
       " 7.201571e-05,\n",
       " 0.00085546565,\n",
       " 2.1652173e-05,\n",
       " 3.2047512e-05,\n",
       " 4.1232524e-05,\n",
       " 0.0006918411,\n",
       " 0.006960463,\n",
       " 0.043476522,\n",
       " 0.00014509076,\n",
       " 0.0001292789,\n",
       " 0.0099094445,\n",
       " 0.00035045846,\n",
       " 2.4860577e-05,\n",
       " 8.672099e-05,\n",
       " 0.0022449691,\n",
       " 0.00038384795,\n",
       " 8.092055e-05,\n",
       " 0.00018864972,\n",
       " 0.014964465,\n",
       " 9.038109e-05,\n",
       " 0.00020731441,\n",
       " 7.910009e-05,\n",
       " 5.188231e-05,\n",
       " 0.002890797,\n",
       " 0.0001522849,\n",
       " 2.5899742e-05,\n",
       " 2.8823895e-05,\n",
       " 2.8823895e-05,\n",
       " 0.0037592743,\n",
       " 0.00010950358,\n",
       " 0.00015325492,\n",
       " 0.00020301096,\n",
       " 0.00027696503,\n",
       " 0.010353063,\n",
       " 5.2032934e-05,\n",
       " 0.008575973,\n",
       " 4.4040564e-05,\n",
       " 0.00046408895,\n",
       " 0.0016257834,\n",
       " 0.0008619328,\n",
       " 0.011180682,\n",
       " 0.07599237,\n",
       " 4.7928097e-05,\n",
       " 0.0009857711,\n",
       " 4.1232524e-05,\n",
       " 9.9762176e-05,\n",
       " 0.0006930091,\n",
       " 0.002586136,\n",
       " 0.00012132535,\n",
       " 0.0003904985,\n",
       " 0.000115694726,\n",
       " 0.035489026,\n",
       " 0.0003113814,\n",
       " 0.0001552917,\n",
       " 2.8978211e-05,\n",
       " 3.2047512e-05,\n",
       " 0.00047547728,\n",
       " 0.00042238244,\n",
       " 2.8823895e-05,\n",
       " 0.00041519324,\n",
       " 0.000104920786,\n",
       " 0.0002722571,\n",
       " 0.003298543,\n",
       " 2.9727777e-05,\n",
       " 9.250851e-05,\n",
       " 0.0010268996,\n",
       " 0.006529205,\n",
       " 0.0016529079,\n",
       " 0.0017039517,\n",
       " 0.0009407449,\n",
       " 8.18987e-05,\n",
       " 0.0011479263,\n",
       " 0.0001874963,\n",
       " 0.0026709589,\n",
       " 0.0072534666,\n",
       " 2.9727777e-05,\n",
       " 6.162538e-05,\n",
       " 2.8823895e-05,\n",
       " 0.0003765171,\n",
       " 0.00068737176,\n",
       " 0.0021509093,\n",
       " 0.0009259745,\n",
       " 8.742793e-05,\n",
       " 0.00015801996,\n",
       " 0.00031554067,\n",
       " 0.004405696,\n",
       " 0.008803957,\n",
       " 0.0015238937,\n",
       " 3.084347e-05,\n",
       " 0.00013767734,\n",
       " 0.0023405077,\n",
       " 0.0017922755,\n",
       " 0.00014625966,\n",
       " 0.0027194768,\n",
       " 0.0017192356,\n",
       " 0.00011529144,\n",
       " 0.00064962456,\n",
       " 0.0008342357,\n",
       " 0.00010987793,\n",
       " 0.0001844529,\n",
       " 0.002620981,\n",
       " 0.0006042672,\n",
       " 7.355135e-05,\n",
       " 0.0025690908,\n",
       " 0.00069086335,\n",
       " 0.0009450003,\n",
       " 0.0037046964,\n",
       " 0.0012217468,\n",
       " 0.0035185232,\n",
       " 0.00011341863,\n",
       " 2.8316263e-05,\n",
       " 0.0015651762,\n",
       " 3.9739494e-05,\n",
       " 2.5899742e-05,\n",
       " 4.4121483e-05,\n",
       " 4.1232524e-05,\n",
       " 2.5801673e-05,\n",
       " 0.0020813677,\n",
       " 3.989373e-05,\n",
       " 0.000554337,\n",
       " 0.0003832803,\n",
       " 0.037394766,\n",
       " 0.00085250044,\n",
       " 6.5829736e-05,\n",
       " 0.0020971838,\n",
       " 0.005722813,\n",
       " 0.01647988,\n",
       " 0.0004590693,\n",
       " 0.0010889817,\n",
       " 2.8823895e-05,\n",
       " 4.037267e-05,\n",
       " 0.00033247238,\n",
       " 0.00014876101,\n",
       " 0.0013123907,\n",
       " 2.9727777e-05,\n",
       " 4.1232524e-05,\n",
       " 0.00038455173,\n",
       " 5.0925464e-05,\n",
       " 7.2778996e-05,\n",
       " 3.3817752e-05,\n",
       " 5.2263335e-05,\n",
       " 0.0005628952,\n",
       " 0.0024883754,\n",
       " 0.041650437,\n",
       " 0.0017672939,\n",
       " 0.0006354928,\n",
       " 0.0019382798,\n",
       " 0.00034899233,\n",
       " 6.5829736e-05,\n",
       " 2.8823895e-05,\n",
       " 0.000116279254,\n",
       " 0.0017810202,\n",
       " 0.000115815485,\n",
       " 0.00046310283,\n",
       " 5.264108e-05,\n",
       " 4.0128234e-05,\n",
       " 0.0003750701,\n",
       " 0.004594976,\n",
       " 5.502039e-05,\n",
       " 6.312774e-05,\n",
       " 0.0019596107,\n",
       " 0.00030639904,\n",
       " 0.0054463423,\n",
       " 0.0017464227,\n",
       " 3.8815895e-05,\n",
       " 1.8017628e-05,\n",
       " 0.00031642907,\n",
       " 1.9888255e-05,\n",
       " 0.0065563647,\n",
       " 0.001430034,\n",
       " 0.017052492,\n",
       " 0.009813389,\n",
       " 7.527412e-05,\n",
       " 6.301515e-05,\n",
       " 0.0028360768,\n",
       " 0.022759076,\n",
       " 0.0016793301,\n",
       " 0.0031067997,\n",
       " 7.31943e-05,\n",
       " 3.971055e-05,\n",
       " 0.00030192008,\n",
       " 0.00036703417,\n",
       " 0.00011330091,\n",
       " 0.0006812714,\n",
       " 4.0864834e-05,\n",
       " 0.00024213169,\n",
       " 4.4121483e-05,\n",
       " 0.00013251271,\n",
       " 6.239774e-05,\n",
       " 5.7755766e-05,\n",
       " 0.00025458445,\n",
       " 0.00096296874,\n",
       " 0.007146662,\n",
       " 0.00015117032,\n",
       " 0.00036756136,\n",
       " 0.0023634026,\n",
       " 3.4402674e-05,\n",
       " 2.8823895e-05,\n",
       " 2.2057851e-05,\n",
       " 0.00012150354,\n",
       " 3.2047512e-05,\n",
       " 0.0006426037,\n",
       " 0.0012452927,\n",
       " 2.7636925e-05,\n",
       " 0.000102455466,\n",
       " 0.00015438737,\n",
       " 4.6783483e-05,\n",
       " 8.742793e-05,\n",
       " 8.742793e-05,\n",
       " 2.8823895e-05,\n",
       " 0.011500579,\n",
       " 0.0039026667,\n",
       " 9.667633e-05,\n",
       " 0.00012568147,\n",
       " 5.259005e-05,\n",
       " 0.01671075,\n",
       " 0.0038902597,\n",
       " 2.688064e-05,\n",
       " 0.00056893774,\n",
       " 0.02598332,\n",
       " 0.000121474455,\n",
       " 0.00034899233,\n",
       " 0.0021989997,\n",
       " 0.0014265894,\n",
       " 0.00019725667,\n",
       " 0.00040724807,\n",
       " 0.0012938651,\n",
       " 2.5045427e-05,\n",
       " 0.00020905583,\n",
       " 0.00012610812,\n",
       " 0.00021218092,\n",
       " 0.04595469,\n",
       " 9.7332355e-05,\n",
       " 0.00029740419,\n",
       " 0.00012147052,\n",
       " 0.00017775479,\n",
       " 0.00018979594,\n",
       " 0.01076727,\n",
       " 0.0029202476,\n",
       " 9.3248666e-05,\n",
       " 0.002800297,\n",
       " 3.084347e-05,\n",
       " 0.00015489609,\n",
       " 3.844005e-05,\n",
       " 3.085903e-05,\n",
       " 0.000104156206,\n",
       " 0.00012568147,\n",
       " 0.0005596525,\n",
       " 4.0859497e-05,\n",
       " 0.00013340882,\n",
       " 2.8316263e-05,\n",
       " 5.6520134e-05,\n",
       " 4.859376e-05,\n",
       " 0.00012659511,\n",
       " 6.0966104e-05,\n",
       " 0.009747857,\n",
       " 3.2047512e-05,\n",
       " 8.290765e-05,\n",
       " 0.00013994133,\n",
       " 4.6783483e-05,\n",
       " 0.0001321948,\n",
       " 0.0005371212,\n",
       " 3.0417817e-05,\n",
       " 2.8823895e-05,\n",
       " 2.9727777e-05,\n",
       " 0.00010149251,\n",
       " 0.00089455,\n",
       " 2.8823895e-05,\n",
       " 0.00012060421,\n",
       " 3.084347e-05,\n",
       " 0.0012456108,\n",
       " 5.5981523e-05,\n",
       " 0.000115803676,\n",
       " 0.0008681675,\n",
       " 0.0001380861,\n",
       " 0.00046044088,\n",
       " 4.1232524e-05,\n",
       " 0.00033690396,\n",
       " 5.935258e-05,\n",
       " 3.5517143e-05,\n",
       " 0.00942811,\n",
       " 3.152866e-05,\n",
       " 6.994383e-05,\n",
       " 0.0008024839,\n",
       " 0.00013340882,\n",
       " 0.0028999683,\n",
       " 9.5409276e-05,\n",
       " 2.7157965e-05,\n",
       " 0.0026911765,\n",
       " 0.00018402112,\n",
       " 0.0006069269,\n",
       " 0.00012150354,\n",
       " 6.258623e-05,\n",
       " 2.688064e-05,\n",
       " 0.00031248652,\n",
       " 0.00010850292,\n",
       " 6.120838e-05,\n",
       " 4.6783483e-05,\n",
       " 0.00016547313,\n",
       " 0.00025624182,\n",
       " 2.9727777e-05,\n",
       " 0.00014218122,\n",
       " 9.319658e-05,\n",
       " 0.0004940496,\n",
       " 0.00016626058,\n",
       " 2.8823895e-05,\n",
       " 4.1232524e-05,\n",
       " 0.000665722,\n",
       " 7.466181e-05,\n",
       " 0.00020812744,\n",
       " 0.006941593,\n",
       " 0.00153563,\n",
       " 0.00010940129,\n",
       " 0.038748637,\n",
       " 0.017974094,\n",
       " 0.00065091887,\n",
       " 0.0023196342,\n",
       " 0.0011807487,\n",
       " 0.0012712526,\n",
       " 7.195263e-05,\n",
       " 4.1232524e-05,\n",
       " 0.0021474436,\n",
       " 0.0004143773,\n",
       " 0.00011627603,\n",
       " 3.6493395e-05,\n",
       " 0.0003494794,\n",
       " 2.8823895e-05,\n",
       " 0.00012098928,\n",
       " 0.000104920786,\n",
       " 0.00016369586,\n",
       " 5.1294228e-05,\n",
       " 0.0002231813,\n",
       " 0.0013865464,\n",
       " 0.00011736313,\n",
       " 0.00028203597,\n",
       " 2.7636925e-05,\n",
       " 0.0024703543,\n",
       " 7.723127e-05,\n",
       " 4.1232524e-05,\n",
       " 9.12328e-05,\n",
       " 7.323305e-05,\n",
       " 0.029695796,\n",
       " 0.00011364142,\n",
       " 4.6783483e-05,\n",
       " 0.00027804766,\n",
       " 0.0020624932,\n",
       " 0.0078637535,\n",
       " 0.00014809342,\n",
       " 0.0010653924,\n",
       " 0.0028183,\n",
       " 0.0014389786,\n",
       " 8.324997e-05,\n",
       " 4.584384e-05,\n",
       " 0.00014310612,\n",
       " 0.0029211976,\n",
       " 0.0038762968,\n",
       " 0.00015975267,\n",
       " 8.464702e-05,\n",
       " 2.9727777e-05,\n",
       " 0.0022411987,\n",
       " 0.05407457,\n",
       " 6.9764974e-05,\n",
       " 0.0004987141,\n",
       " 0.00058789336,\n",
       " 0.00029290418,\n",
       " 5.8483307e-05,\n",
       " 0.00016626058,\n",
       " 0.0051642656,\n",
       " 0.00018395463,\n",
       " 3.5388937e-05,\n",
       " 9.9306024e-05,\n",
       " 3.084347e-05,\n",
       " 0.0061294613,\n",
       " 2.418859e-05,\n",
       " 0.0117098,\n",
       " 8.6006636e-05,\n",
       " 7.247987e-05,\n",
       " 0.00028459582,\n",
       " 0.002923422,\n",
       " 0.00029377505,\n",
       " 0.00014086295,\n",
       " 0.00012834075,\n",
       " 0.00031642907,\n",
       " 5.9566864e-05,\n",
       " 6.120838e-05,\n",
       " 0.0026485375,\n",
       " 0.0001300601,\n",
       " 6.292832e-05,\n",
       " 3.2405605e-05,\n",
       " 9.752438e-05,\n",
       " 2.2720316e-05,\n",
       " 6.358582e-05,\n",
       " 0.00021637997,\n",
       " 0.00059206435,\n",
       " 0.00034002616,\n",
       " 0.00022459726,\n",
       " 7.053924e-05,\n",
       " 3.971055e-05,\n",
       " 0.00079722697,\n",
       " 0.0011001277,\n",
       " 6.258349e-05,\n",
       " 0.00016228286,\n",
       " 0.000103815495,\n",
       " 0.0005008901,\n",
       " 3.631104e-05,\n",
       " 0.02051861,\n",
       " 0.0021545568,\n",
       " 9.12328e-05,\n",
       " 0.001421755,\n",
       " 7.8235746e-05,\n",
       " 0.0002401377,\n",
       " 0.0006292993,\n",
       " 0.0016618004,\n",
       " 3.152866e-05,\n",
       " 3.444384e-05,\n",
       " 4.8981452e-05,\n",
       " 0.0007404961,\n",
       " 0.000849276,\n",
       " 3.15292e-05,\n",
       " 0.00020966287,\n",
       " 0.00015815729,\n",
       " 0.00026276815,\n",
       " 4.584384e-05,\n",
       " 4.1232524e-05,\n",
       " 7.51433e-05,\n",
       " 0.0015604642,\n",
       " 9.250851e-05,\n",
       " 0.00024295077,\n",
       " 0.000784497,\n",
       " 4.0578474e-05,\n",
       " 2.9727777e-05,\n",
       " 0.000107383144,\n",
       " 4.3519565e-05,\n",
       " 0.003245493,\n",
       " 0.0063885935,\n",
       " 5.6796936e-05,\n",
       " 7.665661e-05,\n",
       " 0.010496834,\n",
       " 0.00020301096,\n",
       " 0.0014479582,\n",
       " 0.002011121,\n",
       " 3.6362777e-05,\n",
       " 0.00010664739,\n",
       " 0.00016242155,\n",
       " 4.2207346e-05,\n",
       " 0.0003339919,\n",
       " 0.00036133057,\n",
       " 0.0017338209,\n",
       " 2.8823895e-05,\n",
       " 2.8596754e-05,\n",
       " 0.00012568147,\n",
       " 0.0010239572,\n",
       " 0.0055014677,\n",
       " 0.009505384,\n",
       " 4.1232524e-05,\n",
       " 0.005312384,\n",
       " 0.0002896998,\n",
       " 4.2877506e-05,\n",
       " 0.005420405,\n",
       " 3.084347e-05,\n",
       " 0.04784152,\n",
       " 6.22107e-05,\n",
       " 2.8823895e-05,\n",
       " 6.214987e-05,\n",
       " 3.7587346e-05,\n",
       " 0.00027080972,\n",
       " 9.8933335e-05,\n",
       " 0.00086790195,\n",
       " 7.6721255e-05,\n",
       " 0.00049237075,\n",
       " 0.0012680129,\n",
       " 0.00016683737,\n",
       " 5.9035905e-05,\n",
       " 0.0003369496,\n",
       " 0.002510507,\n",
       " 5.628847e-05,\n",
       " 0.00020731441,\n",
       " 0.00076449924,\n",
       " 2.8823895e-05,\n",
       " 0.00010389087,\n",
       " 4.1232524e-05,\n",
       " 0.0006475177,\n",
       " 0.055107012,\n",
       " 0.0093978,\n",
       " 4.4121483e-05,\n",
       " 0.00223004,\n",
       " 0.2396324,\n",
       " 0.00010149251,\n",
       " 0.00065545645,\n",
       " 0.00010757644,\n",
       " 2.1541078e-05,\n",
       " 0.00015867736,\n",
       " 0.00026956396,\n",
       " 0.00025458445,\n",
       " 0.0001483706,\n",
       " 4.1232524e-05,\n",
       " 0.017115101,\n",
       " 5.953949e-05,\n",
       " 0.00012803322,\n",
       " 0.000963412,\n",
       " 3.624209e-05,\n",
       " 0.0013637325,\n",
       " 0.0018177372,\n",
       " 8.3428866e-05,\n",
       " 4.1606858e-05,\n",
       " 9.3248666e-05,\n",
       " 4.521274e-05,\n",
       " 0.00012568147,\n",
       " 6.957623e-05,\n",
       " 0.0015515648,\n",
       " 0.01700568,\n",
       " 0.0006741597,\n",
       " 0.17618993,\n",
       " 3.9974388e-05,\n",
       " 7.561117e-05,\n",
       " 0.0001387844,\n",
       " 3.2319374e-05,\n",
       " 2.5585781e-05,\n",
       " 0.00027845515,\n",
       " 0.00015502036,\n",
       " 5.4755903e-05,\n",
       " 0.00083461375,\n",
       " 4.584384e-05,\n",
       " 0.00015153602,\n",
       " 0.00016203824,\n",
       " 0.00042268878,\n",
       " 0.0129807005,\n",
       " 4.210198e-05,\n",
       " 0.0006134725,\n",
       " 0.00017989123,\n",
       " 0.0023290098,\n",
       " 0.0015977512,\n",
       " 0.0013330398,\n",
       " 0.008332094,\n",
       " 0.002895353,\n",
       " 4.2639662e-05,\n",
       " 0.04222989,\n",
       " 0.0020057124,\n",
       " 0.0060438374,\n",
       " 0.00015587307,\n",
       " 0.0076056067,\n",
       " 2.5228934e-05,\n",
       " 0.0018462368,\n",
       " 3.3421802e-05,\n",
       " 0.00046816582,\n",
       " 0.00153265,\n",
       " 0.0012294673,\n",
       " 3.6243197e-05,\n",
       " 2.8823895e-05,\n",
       " 3.989373e-05,\n",
       " 2.8823895e-05,\n",
       " 0.0015933287,\n",
       " 0.0010297254,\n",
       " 0.0050878106,\n",
       " 0.00026856168,\n",
       " 4.8579583e-05,\n",
       " 0.00019413355,\n",
       " 0.0006481848,\n",
       " 7.350325e-05,\n",
       " 7.299168e-05,\n",
       " 2.9727777e-05,\n",
       " 0.00015647111,\n",
       " 0.0017886602,\n",
       " 4.1232524e-05,\n",
       " 0.0006974918,\n",
       " 0.012808353,\n",
       " 0.00022734316,\n",
       " 3.084347e-05,\n",
       " 4.9415532e-05,\n",
       " 0.00016683737,\n",
       " 0.0296922,\n",
       " 0.00012509548,\n",
       " 0.00022853217,\n",
       " 0.0039964705,\n",
       " 0.013368135,\n",
       " 0.010348165,\n",
       " 0.00018691724,\n",
       " 0.04998131,\n",
       " 0.00319464,\n",
       " 0.00022067556,\n",
       " 0.0009222975,\n",
       " 0.0012121646,\n",
       " 0.00023982997,\n",
       " 4.020634e-05,\n",
       " 2.9727777e-05,\n",
       " 5.0061353e-05,\n",
       " 6.0477098e-05,\n",
       " 0.0016317437,\n",
       " 4.1232524e-05,\n",
       " 0.0032703031,\n",
       " 0.0035343056,\n",
       " 0.00010149251,\n",
       " 6.9764974e-05,\n",
       " 0.0013669298,\n",
       " 8.22106e-05,\n",
       " 0.00022173667,\n",
       " 7.572648e-05,\n",
       " 4.1232524e-05,\n",
       " 0.0009226974,\n",
       " 0.00043026023,\n",
       " 0.00034899233,\n",
       " 0.00010389087,\n",
       " 0.0006087895,\n",
       " 0.0060026455,\n",
       " 2.8823895e-05,\n",
       " 3.5025958e-05,\n",
       " 6.693025e-05,\n",
       " 3.8452734e-05,\n",
       " 0.008114535,\n",
       " 0.0047184993,\n",
       " 0.00020301096,\n",
       " 0.030725578,\n",
       " 0.00015145166,\n",
       " 2.6629064e-05,\n",
       " 0.0013957348,\n",
       " 9.3965886e-05,\n",
       " 3.299837e-05,\n",
       " 0.00015261445,\n",
       " 5.4755903e-05,\n",
       " 6.7048626e-05,\n",
       " 9.250851e-05,\n",
       " 0.003785141,\n",
       " 3.2047512e-05,\n",
       " 0.0009836621,\n",
       " 0.00014033285,\n",
       " 0.0019114728,\n",
       " 0.0022395784,\n",
       " 4.1232524e-05,\n",
       " 0.00011419162,\n",
       " 0.000120485005,\n",
       " 0.00034638352,\n",
       " 0.00020380341,\n",
       " 0.0019862158,\n",
       " 0.0048325895,\n",
       " 4.252551e-05,\n",
       " 0.00035707804,\n",
       " 3.0011717e-05,\n",
       " 0.011494043,\n",
       " 0.00027971185,\n",
       " 0.003027432,\n",
       " 0.00025458445,\n",
       " 2.1723672e-05,\n",
       " 5.135369e-05,\n",
       " 0.00010149251,\n",
       " 3.2047512e-05,\n",
       " 1.4250303e-05,\n",
       " 0.00024388515,\n",
       " 2.4852352e-05,\n",
       " 0.0003849952,\n",
       " 3.6493395e-05,\n",
       " 9.060277e-05,\n",
       " 0.007880411,\n",
       " 7.849513e-05,\n",
       " 7.1799506e-05,\n",
       " 2.9727777e-05,\n",
       " 0.0022846991,\n",
       " 9.269041e-05,\n",
       " 0.0001119516,\n",
       " 0.00048437284,\n",
       " 2.8823895e-05,\n",
       " 0.013003043,\n",
       " 0.00020731441,\n",
       " 2.9995235e-05,\n",
       " 3.682474e-05,\n",
       " 4.1232524e-05,\n",
       " 2.9727777e-05,\n",
       " 2.2720316e-05,\n",
       " 4.1232524e-05,\n",
       " 0.022334134,\n",
       " 0.018278627,\n",
       " 3.602978e-05,\n",
       " 0.0004991438,\n",
       " 0.00012568147,\n",
       " 3.1794243e-05,\n",
       " 0.00047365224,\n",
       " 3.971055e-05,\n",
       " 0.00022885509,\n",
       " 9.250851e-05,\n",
       " 0.00013104604,\n",
       " 0.00013669625,\n",
       " 0.0023607756,\n",
       " 5.445461e-05,\n",
       " 0.011234015,\n",
       " 0.00064952055,\n",
       " 0.0001082167,\n",
       " 6.17736e-05,\n",
       " 4.490726e-05,\n",
       " 0.00023253934,\n",
       " 0.00023207067,\n",
       " 0.009848113,\n",
       " 0.00012962242,\n",
       " 3.9626495e-05,\n",
       " 0.00030072356,\n",
       " 0.00020949761,\n",
       " 0.00014723185,\n",
       " 7.749959e-05,\n",
       " 4.1232524e-05,\n",
       " 0.00024590603,\n",
       " 5.141671e-05,\n",
       " 4.584384e-05,\n",
       " 0.0015143877,\n",
       " 9.250851e-05,\n",
       " 0.0001765065,\n",
       " 0.00023816127,\n",
       " 4.1232524e-05,\n",
       " 2.9727777e-05,\n",
       " 9.501822e-05,\n",
       " 0.0069275713,\n",
       " 0.005466363,\n",
       " 6.293383e-05,\n",
       " 0.00039127452,\n",
       " 0.0020471546,\n",
       " 0.0001391053,\n",
       " 0.0040534353,\n",
       " 3.152866e-05,\n",
       " 2.2720316e-05,\n",
       " 0.035141394,\n",
       " 0.0021849058,\n",
       " 3.3421802e-05,\n",
       " 0.0003132734,\n",
       " 9.250851e-05,\n",
       " 0.00018801886,\n",
       " 0.00038969898,\n",
       " 2.8823895e-05,\n",
       " 6.0004833e-05,\n",
       " 6.549685e-05,\n",
       " 0.0270326,\n",
       " 0.00018801886,\n",
       " 5.5417167e-05,\n",
       " 0.0014640507,\n",
       " 0.00031248652,\n",
       " 0.00015675275,\n",
       " 0.0006482809,\n",
       " 0.0005296554,\n",
       " 3.3737804e-05,\n",
       " 2.8823895e-05,\n",
       " 3.5131467e-05,\n",
       " 0.0009136003,\n",
       " 0.0018351191,\n",
       " 0.00030525928,\n",
       " 3.2405605e-05,\n",
       " 3.299837e-05,\n",
       " 0.00096801843,\n",
       " 0.00018801886,\n",
       " ...]"
      ]
     },
     "execution_count": 319,
     "metadata": {},
     "output_type": "execute_result"
    }
   ],
   "source": [
    "list(y_pred_prob)"
   ]
  },
  {
   "cell_type": "markdown",
   "metadata": {},
   "source": [
    "# KNN (w/ under-sampling)"
   ]
  },
  {
   "cell_type": "markdown",
   "metadata": {},
   "source": [
    "### Under-sampling training data + visualization"
   ]
  },
  {
   "cell_type": "code",
   "execution_count": 99,
   "metadata": {},
   "outputs": [
    {
     "data": {
      "image/png": "[encoded data removed]",
      "text/plain": [
       "<Figure size 432x288 with 1 Axes>"
      ]
     },
     "metadata": {
      "needs_background": "light"
     },
     "output_type": "display_data"
    }
   ],
   "source": [
    "from imblearn.under_sampling import ClusterCentroids\n",
    "\n",
    "cc = ClusterCentroids(sampling_strategy='majority', estimator=KMeans(n_clusters=2))\n",
    "X_cc, y_cc = cc.fit_resample(X_train, y_train)\n",
    "\n",
    "pca = PCA(n_components=2)\n",
    "X_pca = pca.fit_transform(X_cc)\n",
    "plot_2d_space(X_pca, y_cc, 'Cluster Centroids under-sampling')"
   ]
  },
  {
   "cell_type": "code",
   "execution_count": 100,
   "metadata": {},
   "outputs": [],
   "source": [
    "X_cc_removeoutlier = X_cc.tolist()"
   ]
  },
  {
   "cell_type": "code",
   "execution_count": 106,
   "metadata": {},
   "outputs": [],
   "source": [
    "del X_cc_removeoutlier[16]"
   ]
  },
  {
   "cell_type": "code",
   "execution_count": 107,
   "metadata": {},
   "outputs": [],
   "source": [
    "X_cc_removeoutlier = np.array(X_cc_removeoutlier)"
   ]
  },
  {
   "cell_type": "code",
   "execution_count": 110,
   "metadata": {},
   "outputs": [],
   "source": [
    "y_cc_removeoutlier = y_cc.tolist()"
   ]
  },
  {
   "cell_type": "code",
   "execution_count": 111,
   "metadata": {},
   "outputs": [],
   "source": [
    "del y_cc_removeoutlier[16]"
   ]
  },
  {
   "cell_type": "code",
   "execution_count": 112,
   "metadata": {},
   "outputs": [],
   "source": [
    "y_cc_removeoutlier = np.array(y_cc_removeoutlier)"
   ]
  },
  {
   "cell_type": "code",
   "execution_count": 113,
   "metadata": {},
   "outputs": [
    {
     "data": {
      "image/png": "[encoded data removed]",
      "text/plain": [
       "<Figure size 432x288 with 1 Axes>"
      ]
     },
     "metadata": {
      "needs_background": "light"
     },
     "output_type": "display_data"
    }
   ],
   "source": [
    "plot_2d_space(pca.fit_transform(X_cc_removeoutlier), y_cc_removeoutlier, 'Cluster Centroids under-sampling')"
   ]
  },
  {
   "cell_type": "code",
   "execution_count": null,
   "metadata": {},
   "outputs": [],
   "source": []
  },
  {
   "cell_type": "code",
   "execution_count": null,
   "metadata": {},
   "outputs": [],
   "source": []
  },
  {
   "cell_type": "code",
   "execution_count": null,
   "metadata": {},
   "outputs": [],
   "source": []
  },
  {
   "cell_type": "code",
   "execution_count": 114,
   "metadata": {},
   "outputs": [
    {
     "name": "stdout",
     "output_type": "stream",
     "text": [
      "[[2362  535]\n",
      " [   4    8]]\n",
      "[[2640  257]\n",
      " [   9    3]]\n",
      "[[2061  836]\n",
      " [   1   11]]\n",
      "[[2199  698]\n",
      " [   1   11]]\n",
      "[[2029  868]\n",
      " [   1   11]]\n",
      "[[2121  776]\n",
      " [   2   10]]\n",
      "[[2057  840]\n",
      " [   0   12]]\n",
      "[[2104  793]\n",
      " [   1   11]]\n",
      "[[2071  826]\n",
      " [   1   11]]\n",
      "[[2105  792]\n",
      " [   1   11]]\n"
     ]
    }
   ],
   "source": [
    "for i in np.arange(1, 11, 1):\n",
    "    knn = KNeighborsClassifier(n_neighbors=i, metric='minkowski', p=2)\n",
    "    knn.fit(X_cc_removeoutlier, y_cc_removeoutlier)\n",
    "    y_pred = knn.predict(X_test)\n",
    "    print(confusion_matrix(y_test, y_pred))"
   ]
  },
  {
   "cell_type": "code",
   "execution_count": 119,
   "metadata": {},
   "outputs": [
    {
     "data": {
      "text/plain": [
       "KNeighborsClassifier(algorithm='auto', leaf_size=30, metric='minkowski',\n",
       "                     metric_params=None, n_jobs=None, n_neighbors=3, p=2,\n",
       "                     weights='uniform')"
      ]
     },
     "execution_count": 119,
     "metadata": {},
     "output_type": "execute_result"
    }
   ],
   "source": [
    "from sklearn.neighbors import KNeighborsClassifier\n",
    "knn = KNeighborsClassifier(n_neighbors=3, metric='minkowski', p=2)\n",
    "knn.fit(X_cc_removeoutlier, y_cc_removeoutlier)"
   ]
  },
  {
   "cell_type": "code",
   "execution_count": 321,
   "metadata": {},
   "outputs": [],
   "source": [
    "import pickle\n",
    "pickle.dump(knn, open('knn_for_flask_2.pickle', 'wb'), protocol=2)"
   ]
  },
  {
   "cell_type": "code",
   "execution_count": 134,
   "metadata": {},
   "outputs": [],
   "source": [
    "y_knn_pred = knn.predict(X_test)\n",
    "y_knn_pred_prob = knn.predict_proba(X_test)[:,1]"
   ]
  },
  {
   "cell_type": "code",
   "execution_count": 136,
   "metadata": {},
   "outputs": [
    {
     "name": "stdout",
     "output_type": "stream",
     "text": [
      "[[2061  836]\n",
      " [   1   11]]\n"
     ]
    }
   ],
   "source": [
    "print(confusion_matrix(y_test, y_knn_pred))"
   ]
  },
  {
   "cell_type": "code",
   "execution_count": 137,
   "metadata": {},
   "outputs": [
    {
     "name": "stdout",
     "output_type": "stream",
     "text": [
      "Confusion matrix:\n",
      " [[2061  836]\n",
      " [   1   11]]\n"
     ]
    },
    {
     "data": {
      "image/png": "[encoded data removed]",
      "text/plain": [
       "<Figure size 432x288 with 2 Axes>"
      ]
     },
     "metadata": {
      "needs_background": "light"
     },
     "output_type": "display_data"
    }
   ],
   "source": [
    "confusion_matrix_plot(y_test, y_knn_pred)"
   ]
  },
  {
   "cell_type": "code",
   "execution_count": 123,
   "metadata": {},
   "outputs": [
    {
     "data": {
      "image/png": "[encoded data removed]",
      "text/plain": [
       "<Figure size 432x288 with 1 Axes>"
      ]
     },
     "metadata": {
      "needs_background": "light"
     },
     "output_type": "display_data"
    }
   ],
   "source": [
    "roc_plot(y_test, y_pred_prob, 'KNN with under-sampling')\n",
    "#plt.savefig('KNN with under-sampling.png')\n",
    "\n"
   ]
  },
  {
   "cell_type": "markdown",
   "metadata": {},
   "source": [
    "# Gradient boosting (w/ under-sampling)"
   ]
  },
  {
   "cell_type": "code",
   "execution_count": null,
   "metadata": {},
   "outputs": [],
   "source": [
    "gbrt=GradientBoostingClassifier(random_state=1, n_estimators=100)\n",
    "gbrt.fit(X_train_std, y_cc)"
   ]
  },
  {
   "cell_type": "code",
   "execution_count": null,
   "metadata": {},
   "outputs": [],
   "source": [
    "y_pred = gbrt.predict(X_test_std)\n",
    "y_pred_prob = gbrt.predict_proba(X_test_std)[:,1]\n",
    "print(confusion_matrix(y_test, y_pred))"
   ]
  },
  {
   "cell_type": "code",
   "execution_count": null,
   "metadata": {},
   "outputs": [],
   "source": [
    "roc_plot(y_test, y_pred_prob, 'GradientBoosting with under-sampling')\n",
    "#plt.savefig('KNN with under-sampling.png')\n",
    "\n"
   ]
  },
  {
   "cell_type": "markdown",
   "metadata": {},
   "source": [
    "# XGboost (w/ under-sampling)"
   ]
  },
  {
   "cell_type": "code",
   "execution_count": 125,
   "metadata": {},
   "outputs": [
    {
     "data": {
      "text/plain": [
       "XGBClassifier(base_score=0.5, booster='gbtree', colsample_bylevel=1,\n",
       "              colsample_bynode=1, colsample_bytree=1, gamma=0,\n",
       "              learning_rate=0.05, max_delta_step=0, max_depth=5,\n",
       "              min_child_weight=1, missing=None, n_estimators=300, n_jobs=1,\n",
       "              nthread=None, objective='binary:logistic', random_state=0,\n",
       "              reg_alpha=0, reg_lambda=1, scale_pos_weight=1, seed=None,\n",
       "              silent=None, subsample=1, verbosity=1)"
      ]
     },
     "execution_count": 125,
     "metadata": {},
     "output_type": "execute_result"
    }
   ],
   "source": [
    "xgbrt = XGBClassifier(learning_rate = 0.05, n_estimators=300, max_depth=5)\n",
    "xgbrt.fit(X_cc_removeoutlier, y_cc_removeoutlier)"
   ]
  },
  {
   "cell_type": "code",
   "execution_count": 129,
   "metadata": {},
   "outputs": [
    {
     "name": "stdout",
     "output_type": "stream",
     "text": [
      "[[ 211 2686]\n",
      " [   0   12]]\n"
     ]
    }
   ],
   "source": [
    "y_xg_pred = xgbrt.predict(X_test)\n",
    "y_xg_pred_prob = xgbrt.predict_proba(X_test)[:,1]\n",
    "print(confusion_matrix(y_test, y_xg_pred))"
   ]
  },
  {
   "cell_type": "code",
   "execution_count": 132,
   "metadata": {},
   "outputs": [
    {
     "name": "stdout",
     "output_type": "stream",
     "text": [
      "Confusion matrix:\n",
      " [[ 211 2686]\n",
      " [   0   12]]\n"
     ]
    },
    {
     "data": {
      "image/png": "[encoded data removed]",
      "text/plain": [
       "<Figure size 432x288 with 2 Axes>"
      ]
     },
     "metadata": {
      "needs_background": "light"
     },
     "output_type": "display_data"
    },
    {
     "data": {
      "text/plain": [
       "<Figure size 432x288 with 0 Axes>"
      ]
     },
     "metadata": {},
     "output_type": "display_data"
    }
   ],
   "source": [
    "confusion_matrix_plot(y_test, y_xg_pred)"
   ]
  },
  {
   "cell_type": "code",
   "execution_count": 133,
   "metadata": {},
   "outputs": [
    {
     "data": {
      "image/png": "[encoded data removed]",
      "text/plain": [
       "<Figure size 432x288 with 1 Axes>"
      ]
     },
     "metadata": {
      "needs_background": "light"
     },
     "output_type": "display_data"
    }
   ],
   "source": [
    "roc_plot(y_test, y_xg_pred_prob, 'XGBoosting with under-sampling')\n",
    "plt.savefig('xg with under-sampling.png')\n"
   ]
  },
  {
   "cell_type": "markdown",
   "metadata": {},
   "source": [
    "# Simulation"
   ]
  },
  {
   "cell_type": "markdown",
   "metadata": {},
   "source": [
    "### calculate distance between each data point and these two centers in the orginal dataset"
   ]
  },
  {
   "cell_type": "code",
   "execution_count": 201,
   "metadata": {},
   "outputs": [],
   "source": [
    "dist_toX = cdist(pca.fit_transform(X_std), pca.fit_transform(centroids[1]), 'euclidean')"
   ]
  },
  {
   "cell_type": "code",
   "execution_count": 202,
   "metadata": {},
   "outputs": [
    {
     "data": {
      "text/plain": [
       "array([[8.46687114, 2.81771652],\n",
       "       [4.84650384, 1.44014449],\n",
       "       [4.06683813, 1.87311799],\n",
       "       ...,\n",
       "       [1.37779371, 4.75525935],\n",
       "       [2.54412767, 4.25654485],\n",
       "       [1.8952061 , 4.34933673]])"
      ]
     },
     "execution_count": 202,
     "metadata": {},
     "output_type": "execute_result"
    }
   ],
   "source": [
    "dist_toX"
   ]
  },
  {
   "cell_type": "code",
   "execution_count": 210,
   "metadata": {
    "scrolled": true
   },
   "outputs": [],
   "source": [
    "dist_toX_label = pd.DataFrame({'dist1': [i[0] for i in dist_toX], 'dist2':[t[1] for t in dist_toX], 'label': y})"
   ]
  },
  {
   "cell_type": "code",
   "execution_count": 211,
   "metadata": {},
   "outputs": [
    {
     "data": {
      "text/plain": [
       "array([[<matplotlib.axes._subplots.AxesSubplot object at 0x1217f7da0>]],\n",
       "      dtype=object)"
      ]
     },
     "execution_count": 211,
     "metadata": {},
     "output_type": "execute_result"
    },
    {
     "data": {
      "image/png": "[encoded data removed]",
      "text/plain": [
       "<Figure size 432x288 with 1 Axes>"
      ]
     },
     "metadata": {
      "needs_background": "light"
     },
     "output_type": "display_data"
    }
   ],
   "source": [
    "dist_toX_label.hist('dist1')"
   ]
  },
  {
   "cell_type": "code",
   "execution_count": 212,
   "metadata": {},
   "outputs": [],
   "source": [
    "for i in dist_toX_label.index:\n",
    "    if dist_toX_label.loc[i, 'dist1'] < 3:\n",
    "        dist_toX_label.loc[i, 'label'] = 1"
   ]
  },
  {
   "cell_type": "code",
   "execution_count": 213,
   "metadata": {},
   "outputs": [
    {
     "data": {
      "text/plain": [
       "1    5495\n",
       "0    4199\n",
       "Name: label, dtype: int64"
      ]
     },
     "execution_count": 213,
     "metadata": {},
     "output_type": "execute_result"
    }
   ],
   "source": [
    "dist_toX_label.label.value_counts()"
   ]
  },
  {
   "cell_type": "code",
   "execution_count": null,
   "metadata": {},
   "outputs": [],
   "source": []
  },
  {
   "cell_type": "code",
   "execution_count": 214,
   "metadata": {},
   "outputs": [],
   "source": [
    "X_select = dist_toX_label.drop('label', axis=1)\n",
    "y_select = dist_toX_label['label']"
   ]
  },
  {
   "cell_type": "markdown",
   "metadata": {},
   "source": [
    "### Simulation"
   ]
  },
  {
   "cell_type": "code",
   "execution_count": 216,
   "metadata": {},
   "outputs": [
    {
     "data": {
      "image/png": "[encoded data removed]",
      "text/plain": [
       "<Figure size 432x288 with 1 Axes>"
      ]
     },
     "metadata": {
      "needs_background": "light"
     },
     "output_type": "display_data"
    }
   ],
   "source": [
    "plot_2d_space(pca.fit_transform(X_std), y, 'optimization_PCA')\n",
    "#plt.savefig('optimization_PCA.png')"
   ]
  },
  {
   "cell_type": "code",
   "execution_count": 222,
   "metadata": {},
   "outputs": [],
   "source": [
    "temp = pca.fit_transform(X_std)"
   ]
  },
  {
   "cell_type": "code",
   "execution_count": 224,
   "metadata": {},
   "outputs": [],
   "source": [
    "temp_list = [i for i in range(len(temp)) if temp[i][0] < 0]"
   ]
  },
  {
   "cell_type": "code",
   "execution_count": 273,
   "metadata": {},
   "outputs": [],
   "source": [
    "X_std_simulated = pd.DataFrame(X_std.copy()).reset_index(drop=True)\n",
    "y_simulated = y.copy().reset_index(drop=True)"
   ]
  },
  {
   "cell_type": "code",
   "execution_count": 275,
   "metadata": {},
   "outputs": [],
   "source": [
    "for i in temp_list:\n",
    "    y_simulated[i] = 1"
   ]
  },
  {
   "cell_type": "code",
   "execution_count": 277,
   "metadata": {},
   "outputs": [
    {
     "data": {
      "text/plain": [
       "1    6419\n",
       "0    3275\n",
       "Name: label, dtype: int64"
      ]
     },
     "execution_count": 277,
     "metadata": {},
     "output_type": "execute_result"
    }
   ],
   "source": [
    "y_simulated.value_counts()"
   ]
  },
  {
   "cell_type": "code",
   "execution_count": null,
   "metadata": {},
   "outputs": [],
   "source": []
  },
  {
   "cell_type": "code",
   "execution_count": 279,
   "metadata": {},
   "outputs": [
    {
     "data": {
      "image/png": "[encoded data removed]",
      "text/plain": [
       "<Figure size 432x288 with 1 Axes>"
      ]
     },
     "metadata": {
      "needs_background": "light"
     },
     "output_type": "display_data"
    }
   ],
   "source": [
    "plot_2d_space(pca.fit_transform(X_std_simulated), y_simulated, 'Simulated data_PCA')\n",
    "#plt.savefig('Simulated data_PCA')"
   ]
  },
  {
   "cell_type": "markdown",
   "metadata": {},
   "source": [
    "### train test split"
   ]
  },
  {
   "cell_type": "code",
   "execution_count": 280,
   "metadata": {},
   "outputs": [],
   "source": [
    "X_train_s, X_test_s, y_train_s, y_test_s = train_test_split(X_std_simulated, y_simulated, test_size=0.3, random_state=6, stratify=y_simulated)"
   ]
  },
  {
   "cell_type": "markdown",
   "metadata": {},
   "source": [
    "### KNN"
   ]
  },
  {
   "cell_type": "code",
   "execution_count": 282,
   "metadata": {},
   "outputs": [
    {
     "data": {
      "text/plain": [
       "KNeighborsClassifier(algorithm='auto', leaf_size=30, metric='minkowski',\n",
       "                     metric_params=None, n_jobs=None, n_neighbors=3, p=2,\n",
       "                     weights='uniform')"
      ]
     },
     "execution_count": 282,
     "metadata": {},
     "output_type": "execute_result"
    }
   ],
   "source": [
    "from sklearn.neighbors import KNeighborsClassifier\n",
    "knn = KNeighborsClassifier(n_neighbors=3, metric='minkowski', p=2)\n",
    "knn.fit(X_train_s, y_train_s)"
   ]
  },
  {
   "cell_type": "code",
   "execution_count": 283,
   "metadata": {},
   "outputs": [],
   "source": [
    "y_pred = knn.predict(X_test_s)\n",
    "y_pred_prob = knn.predict_proba(X_test_s)[:,1]"
   ]
  },
  {
   "cell_type": "code",
   "execution_count": 284,
   "metadata": {},
   "outputs": [
    {
     "data": {
      "text/plain": [
       "array([[ 978,    5],\n",
       "       [   5, 1921]])"
      ]
     },
     "execution_count": 284,
     "metadata": {},
     "output_type": "execute_result"
    }
   ],
   "source": [
    "confusion_matrix(y_test_s, y_pred)"
   ]
  },
  {
   "cell_type": "code",
   "execution_count": 286,
   "metadata": {},
   "outputs": [
    {
     "data": {
      "text/plain": [
       "Text(0.5, 1.0, 'ROC Curve')"
      ]
     },
     "execution_count": 286,
     "metadata": {},
     "output_type": "execute_result"
    },
    {
     "data": {
      "image/png": "[encoded data removed]",
      "text/plain": [
       "<Figure size 432x288 with 1 Axes>"
      ]
     },
     "metadata": {
      "needs_background": "light"
     },
     "output_type": "display_data"
    }
   ],
   "source": [
    "from sklearn.metrics import roc_curve\n",
    "# Generate ROC curve values: fpr, tpr, thresholds\n",
    "fpr, tpr, thresholds = roc_curve(y_test_s, y_pred_prob)\n",
    "\n",
    "# Plot ROC curve\n",
    "plt.plot([0, 1], [0, 1], 'k--')\n",
    "plt.plot(fpr, tpr)\n",
    "plt.xlabel('False Positive Rate')\n",
    "plt.ylabel('True Positive Rate')\n",
    "plt.title('ROC Curve')"
   ]
  },
  {
   "cell_type": "code",
   "execution_count": null,
   "metadata": {},
   "outputs": [],
   "source": [
    "for i in np.arange(1, 11, 1):\n",
    "    knn = KNeighborsClassifier(n_neighbors=i, metric='minkowski', p=2)\n",
    "    knn.fit(X_train_s_std, y_train_s)\n",
    "    y_pred = knn.predict(X_test_s_std)\n",
    "    print(confusion_matrix(y_test_s, y_pred))"
   ]
  },
  {
   "cell_type": "code",
   "execution_count": null,
   "metadata": {},
   "outputs": [],
   "source": [
    "print(classification_report(y_test_s, y_pred, target_names=['nothired', 'hired']))\n"
   ]
  },
  {
   "cell_type": "markdown",
   "metadata": {},
   "source": [
    "# SVm"
   ]
  },
  {
   "cell_type": "code",
   "execution_count": null,
   "metadata": {},
   "outputs": [],
   "source": [
    "from sklearn.svm import SVC\n",
    "svm = SVC(kernel='linear', C=1.0, probability=True, random_state=1)\n",
    "svm.fit(X_train_s_std, y_train_s)\n",
    "y_pred = svm.predict(X_test_s_std)"
   ]
  },
  {
   "cell_type": "code",
   "execution_count": null,
   "metadata": {},
   "outputs": [],
   "source": [
    "confusion_matrix(y_test_s, y_pred)"
   ]
  },
  {
   "cell_type": "code",
   "execution_count": null,
   "metadata": {},
   "outputs": [],
   "source": [
    "print(classification_report(y_test_s, y_pred, target_names=['nothired', 'hired']))"
   ]
  },
  {
   "cell_type": "code",
   "execution_count": null,
   "metadata": {},
   "outputs": [],
   "source": [
    "for i in np.arange(-1, 4):\n",
    "    svm = SVC(kernel='linear', C=10.**i, probability=True, random_state=1)\n",
    "    svm.fit(X_train_s_std, y_train_s)\n",
    "    y_pred = svm.predict(X_test_s_std)\n",
    "    print(confusion_matrix(y_test_s, y_pred))"
   ]
  },
  {
   "cell_type": "code",
   "execution_count": null,
   "metadata": {},
   "outputs": [],
   "source": [
    "y_pred_prob = svm.predict_proba(X_test_s_std)[:,1]"
   ]
  },
  {
   "cell_type": "code",
   "execution_count": null,
   "metadata": {},
   "outputs": [],
   "source": [
    "from sklearn.metrics import roc_curve\n",
    "# Generate ROC curve values: fpr, tpr, thresholds\n",
    "fpr, tpr, thresholds = roc_curve(y_test_s, y_pred_prob)\n",
    "\n",
    "# Plot ROC curve\n",
    "plt.plot([0, 1], [0, 1], 'k--')\n",
    "plt.plot(fpr, tpr)\n",
    "plt.xlabel('False Positive Rate')\n",
    "plt.ylabel('True Positive Rate')\n",
    "plt.title('ROC Curve')\n"
   ]
  },
  {
   "cell_type": "code",
   "execution_count": null,
   "metadata": {},
   "outputs": [],
   "source": [
    "def plot_coefficients(classifier, feature_names, top_features=5):\n",
    "    coef = classifier.coef_.ravel()\n",
    "    top_positive_coefficients = np.argsort(coef)[-top_features:]\n",
    "    top_negative_coefficients = np.argsort(coef)[:top_features]\n",
    "    top_coefficients = np.hstack([top_negative_coefficients, top_positive_coefficients])\n",
    "    # create plot\n",
    "    plt.figure(figsize=(15, 5))\n",
    "    \n",
    "    plt.bar(np.arange(2 * top_features), coef[top_coefficients])\n",
    "    feature_names = np.array(feature_names)\n",
    "    plt.xticks(np.arange(2 * top_features), feature_names[top_coefficients], rotation=90, )\n",
    "    plt.ylabel('Coefficient')\n",
    "    plt.xlabel('Feature')"
   ]
  },
  {
   "cell_type": "code",
   "execution_count": null,
   "metadata": {},
   "outputs": [],
   "source": [
    "plot_coefficients(svm, X.columns)"
   ]
  },
  {
   "cell_type": "markdown",
   "metadata": {},
   "source": [
    "### RF"
   ]
  },
  {
   "cell_type": "code",
   "execution_count": 288,
   "metadata": {},
   "outputs": [
    {
     "data": {
      "text/plain": [
       "RandomForestClassifier(bootstrap=True, class_weight=None, criterion='gini',\n",
       "                       max_depth=None, max_features='auto', max_leaf_nodes=None,\n",
       "                       min_impurity_decrease=0.0, min_impurity_split=None,\n",
       "                       min_samples_leaf=1, min_samples_split=2,\n",
       "                       min_weight_fraction_leaf=0.0, n_estimators=25,\n",
       "                       n_jobs=None, oob_score=False, random_state=1, verbose=0,\n",
       "                       warm_start=False)"
      ]
     },
     "execution_count": 288,
     "metadata": {},
     "output_type": "execute_result"
    }
   ],
   "source": [
    "RF = RandomForestClassifier(criterion='gini', n_estimators=25, random_state=1)\n",
    "RF.fit(X_train_s, y_train_s)"
   ]
  },
  {
   "cell_type": "code",
   "execution_count": 289,
   "metadata": {},
   "outputs": [],
   "source": [
    "y_pred = RF.predict(X_test_s)\n",
    "y_pred_prob = RF.predict_proba(X_test_s)[:,1]"
   ]
  },
  {
   "cell_type": "code",
   "execution_count": 290,
   "metadata": {},
   "outputs": [
    {
     "data": {
      "text/plain": [
       "array([[ 981,    2],\n",
       "       [   3, 1923]])"
      ]
     },
     "execution_count": 290,
     "metadata": {},
     "output_type": "execute_result"
    }
   ],
   "source": [
    "confusion_matrix(y_test_s, y_pred)"
   ]
  },
  {
   "cell_type": "code",
   "execution_count": null,
   "metadata": {},
   "outputs": [],
   "source": []
  },
  {
   "cell_type": "code",
   "execution_count": 291,
   "metadata": {},
   "outputs": [
    {
     "name": "stdout",
     "output_type": "stream",
     "text": [
      "              precision    recall  f1-score   support\n",
      "\n",
      "    nothired       1.00      1.00      1.00       983\n",
      "       hired       1.00      1.00      1.00      1926\n",
      "\n",
      "    accuracy                           1.00      2909\n",
      "   macro avg       1.00      1.00      1.00      2909\n",
      "weighted avg       1.00      1.00      1.00      2909\n",
      "\n"
     ]
    }
   ],
   "source": [
    "print(classification_report(y_test_s, y_pred, target_names=['nothired', 'hired']))"
   ]
  },
  {
   "cell_type": "code",
   "execution_count": 292,
   "metadata": {},
   "outputs": [
    {
     "data": {
      "image/png": "[encoded data removed]",
      "text/plain": [
       "<Figure size 432x288 with 1 Axes>"
      ]
     },
     "metadata": {
      "needs_background": "light"
     },
     "output_type": "display_data"
    }
   ],
   "source": [
    "roc_plot(y_test_s, y_pred_prob, 'Random Forest_optimization')\n",
    "plt.savefig('Random Forest_optimization.png')"
   ]
  },
  {
   "cell_type": "code",
   "execution_count": 296,
   "metadata": {},
   "outputs": [],
   "source": [
    "def feature_importance(model, X_train):\n",
    "    # get importances of each feature\n",
    "    importances = model.feature_importances_\n",
    "    # get feature name of each column\n",
    "    feat_labels = X_train.columns\n",
    "    # arrange the order of importances from larget to small and extract its index\n",
    "    indices = np.argsort(importances)[::-1]\n",
    "    plt.style.use('ggplot')\n",
    "    plt.bar(range(20), importances[indices[:20]])\n",
    "    plt.xticks(range(20), feat_labels[indices[:20]], rotation=90, fontsize=20)\n",
    "    plt.xlabel('Features')\n",
    "    plt.ylabel('Importance')\n",
    "    plt.title('Feature importance')"
   ]
  },
  {
   "cell_type": "code",
   "execution_count": 299,
   "metadata": {},
   "outputs": [
    {
     "data": {
      "image/png": "[encoded data removed]",
      "text/plain": [
       "<Figure size 1080x1080 with 1 Axes>"
      ]
     },
     "metadata": {},
     "output_type": "display_data"
    }
   ],
   "source": [
    "# plt.figure(figsize=(15,15))\n",
    "feature_importance(xgbrt, X)\n",
    "plt.savefig('RF_feature importance.png')\n"
   ]
  },
  {
   "cell_type": "code",
   "execution_count": 316,
   "metadata": {},
   "outputs": [],
   "source": [
    "plt.style.use('default')"
   ]
  },
  {
   "cell_type": "code",
   "execution_count": null,
   "metadata": {},
   "outputs": [],
   "source": []
  },
  {
   "cell_type": "code",
   "execution_count": null,
   "metadata": {},
   "outputs": [],
   "source": []
  },
  {
   "cell_type": "code",
   "execution_count": null,
   "metadata": {},
   "outputs": [],
   "source": []
  }
 ],
 "metadata": {
  "kernelspec": {
   "display_name": "Python 3",
   "language": "python",
   "name": "python3"
  },
  "language_info": {
   "codemirror_mode": {
    "name": "ipython",
    "version": 3
   },
   "file_extension": ".py",
   "mimetype": "text/x-python",
   "name": "python",
   "nbconvert_exporter": "python",
   "pygments_lexer": "ipython3",
   "version": "3.7.3"
  }
 },
 "nbformat": 4,
 "nbformat_minor": 2
}
